{
 "cells": [
  {
   "cell_type": "code",
   "execution_count": 18,
   "metadata": {},
   "outputs": [],
   "source": [
    "from sklearn.externals import joblib\n",
    "import pandas as pd\n",
    "import numpy as np"
   ]
  },
  {
   "cell_type": "code",
   "execution_count": 19,
   "metadata": {},
   "outputs": [
    {
     "name": "stdout",
     "output_type": "stream",
     "text": [
      "50\n"
     ]
    }
   ],
   "source": [
    "#Read Test Data\n",
    "test_data = []\n",
    "with open('headlines.txt', 'r+', encoding='utf-8') as f:\n",
    "    lines = f.readlines()\n",
    "    lines = [x.strip() for x in lines]\n",
    "    test_data.extend(lines)\n",
    "print(len(test_data))"
   ]
  },
  {
   "cell_type": "code",
   "execution_count": 20,
   "metadata": {},
   "outputs": [],
   "source": [
    "#Load the trained Model\n",
    "filename = 'classifier.joblib'\n",
    "loaded_model = joblib.load(filename)"
   ]
  },
  {
   "cell_type": "code",
   "execution_count": 21,
   "metadata": {},
   "outputs": [
    {
     "name": "stdout",
     "output_type": "stream",
     "text": [
      "[1 4 1 0 1 3 3 6 3 0 3 1 5 1 0 1 1 1 0 4 4 1 2 3 3 5 1 5 5 6 3 1 1 5 5 0 3\n",
      " 1 3 1 1 5 1 5 1 1 1 5 4 0]\n"
     ]
    }
   ],
   "source": [
    "#Predict\n",
    "index_arr = loaded_model.predict(test_data)\n",
    "print(loaded_model.predict(test_data))\n",
    "test_cat_list = []\n",
    "for x in index_arr:\n",
    "    if x == 0:\n",
    "        test_cat_list.append('business')\n",
    "    #elif x == 1:\n",
    "    #    test_cat_list.append('general')\n",
    "    elif x == 1:\n",
    "        test_cat_list.append('entertainment')\n",
    "    elif x == 5:\n",
    "        test_cat_list.append('sports')\n",
    "    elif x == 3:\n",
    "        test_cat_list.append('politics')\n",
    "    elif x == 4:\n",
    "        test_cat_list.append('science')\n",
    "    elif x == 2:\n",
    "        test_cat_list.append('health')\n",
    "    elif x == 6:\n",
    "        test_cat_list.append('technology')"
   ]
  },
  {
   "cell_type": "code",
   "execution_count": 22,
   "metadata": {},
   "outputs": [
    {
     "name": "stdout",
     "output_type": "stream",
     "text": [
      "50\n"
     ]
    }
   ],
   "source": [
    "prob_arr = loaded_model.predict_proba(test_data)\n",
    "#print(type(prob_arr))\n",
    "print(len(prob_arr))\n",
    "pred_prob = loaded_model.predict_proba(test_data)\n",
    "prob_list =[]\n",
    "for i in range(len(pred_prob)):\n",
    "    prob_list.append(np.amax(pred_prob[i]))"
   ]
  },
  {
   "cell_type": "code",
   "execution_count": 23,
   "metadata": {},
   "outputs": [
    {
     "name": "stdout",
     "output_type": "stream",
     "text": [
      "[0.27454378 0.08297313 0.06461481 0.072961   0.27996865 0.06812581\n",
      " 0.15681282]\n",
      "4\n"
     ]
    }
   ],
   "source": [
    "print(prob_arr[1])\n",
    "print(index_arr[1])"
   ]
  },
  {
   "cell_type": "code",
   "execution_count": 27,
   "metadata": {},
   "outputs": [
    {
     "name": "stdout",
     "output_type": "stream",
     "text": [
      "50\n"
     ]
    }
   ],
   "source": [
    "valid_tag = []\n",
    "for x in range(len(index_arr)):\n",
    "    if (index_arr[x] == 5 or index_arr[x] == 1 or index_arr[x] == 4 or index_arr[x] == 6 or index_arr[x] == 0) and prob_arr[x][index_arr[x]]>0.4:\n",
    "        #print(prob_arr[x][index_arr[x]])\n",
    "        valid_tag.append(False)\n",
    "    else:\n",
    "        valid_tag.append(True)\n",
    "print(len(valid_tag))"
   ]
  },
  {
   "cell_type": "code",
   "execution_count": 28,
   "metadata": {},
   "outputs": [],
   "source": [
    "d = {'Headlines': test_data, 'Category': test_cat_list, 'Probability': prob_list, 'Valid': valid_tag}\n",
    "df = pd.DataFrame(d)\n",
    "df.to_csv('/mnt/h/workSpace/news-project/analysis2.csv')"
   ]
  },
  {
   "cell_type": "code",
   "execution_count": null,
   "metadata": {},
   "outputs": [],
   "source": []
  }
 ],
 "metadata": {
  "kernelspec": {
   "display_name": "Python 3",
   "language": "python",
   "name": "python3"
  },
  "language_info": {
   "codemirror_mode": {
    "name": "ipython",
    "version": 3
   },
   "file_extension": ".py",
   "mimetype": "text/x-python",
   "name": "python",
   "nbconvert_exporter": "python",
   "pygments_lexer": "ipython3",
   "version": "3.6.7"
  }
 },
 "nbformat": 4,
 "nbformat_minor": 2
}
