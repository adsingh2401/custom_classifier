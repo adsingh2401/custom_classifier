{
 "cells": [
  {
   "cell_type": "code",
   "execution_count": 1,
   "metadata": {},
   "outputs": [
    {
     "data": {
      "text/plain": [
       "list"
      ]
     },
     "execution_count": 1,
     "metadata": {},
     "output_type": "execute_result"
    }
   ],
   "source": [
    "categories = [\"entertainment\", \"sports\", \"technology\", \"politics\",\"health\", \"business\", \"science\"]\n",
    "#categories = [\"entertainment\", \"sports\", \"technology\", \"politics\"]\n",
    "type(categories)"
   ]
  },
  {
   "cell_type": "code",
   "execution_count": 10,
   "metadata": {},
   "outputs": [
    {
     "name": "stdout",
     "output_type": "stream",
     "text": [
      "entertainment 601\n",
      "sports 608\n",
      "technology 614\n",
      "politics 622\n",
      "health 329\n",
      "business 346\n",
      "science 337\n"
     ]
    }
   ],
   "source": [
    "cat_list = []\n",
    "data_list = []\n",
    "for cat in categories:\n",
    "    #print(cat)\n",
    "    with open('{}.txt'.format(cat), encoding='utf-8') as f:\n",
    "    #lines = [line.rstrip('\\n') for line in open('{}.txt'.format(cat))]\n",
    "        lines=f.readlines()\n",
    "        print(cat + \" \" + str(len(lines)))\n",
    "        lines = [x.strip() for x in lines]\n",
    "        data_list.extend(lines)\n",
    "        le = len(lines)\n",
    "        for r in range(le):\n",
    "            cat_list.append(cat)"
   ]
  },
  {
   "cell_type": "code",
   "execution_count": 11,
   "metadata": {},
   "outputs": [
    {
     "name": "stdout",
     "output_type": "stream",
     "text": [
      "3457\n",
      "3457\n"
     ]
    }
   ],
   "source": [
    "print(len(data_list))\n",
    "#print(data_list)\n",
    "print(len(cat_list))\n",
    "#print(cat_list)"
   ]
  },
  {
   "cell_type": "code",
   "execution_count": 12,
   "metadata": {},
   "outputs": [
    {
     "name": "stdout",
     "output_type": "stream",
     "text": [
      "3457\n",
      "[1 1 1 ... 4 4 4]\n"
     ]
    }
   ],
   "source": [
    "from sklearn import preprocessing\n",
    "le = preprocessing.LabelEncoder()\n",
    "target = le.fit_transform(cat_list)\n",
    "print(len(target))\n",
    "print(target)"
   ]
  },
  {
   "cell_type": "code",
   "execution_count": 13,
   "metadata": {},
   "outputs": [
    {
     "name": "stdout",
     "output_type": "stream",
     "text": [
      "Headlines    Here we tell you how you can prevent antimicro...\n",
      "Category                                                health\n",
      "Target                                                       2\n",
      "Name: 2600, dtype: object\n"
     ]
    }
   ],
   "source": [
    "#TESTING\n",
    "\n",
    "import pandas as pd\n",
    "d = {'Headlines':data_list, 'Category':cat_list, 'Target': target}\n",
    "#print(d)\n",
    "df = pd.DataFrame(d)\n",
    "print(df.iloc[2600])"
   ]
  },
  {
   "cell_type": "code",
   "execution_count": 14,
   "metadata": {},
   "outputs": [
    {
     "name": "stdout",
     "output_type": "stream",
     "text": [
      "<class 'list'>\n",
      "(3457, 12673)\n",
      "[[0 0 0 ... 0 0 0]\n",
      " [0 0 0 ... 0 0 0]\n",
      " [0 0 0 ... 0 0 0]\n",
      " ...\n",
      " [0 0 0 ... 0 0 0]\n",
      " [0 1 0 ... 0 0 0]\n",
      " [0 0 0 ... 0 0 0]]\n"
     ]
    }
   ],
   "source": [
    "from sklearn.feature_extraction.text import CountVectorizer\n",
    "count_vect = CountVectorizer()\n",
    "x_train_tf = count_vect.fit_transform(data_list)\n",
    "print(type(data_list))\n",
    "print(x_train_tf.shape)\n",
    "print(x_train_tf.toarray())"
   ]
  },
  {
   "cell_type": "code",
   "execution_count": 15,
   "metadata": {},
   "outputs": [
    {
     "data": {
      "text/plain": [
       "(3457, 12673)"
      ]
     },
     "execution_count": 15,
     "metadata": {},
     "output_type": "execute_result"
    }
   ],
   "source": [
    "from sklearn.feature_extraction.text import TfidfTransformer\n",
    "tfidf_transformer = TfidfTransformer()\n",
    "x_train_tfidf = tfidf_transformer.fit_transform(x_train_tf)\n",
    "x_train_tfidf.shape"
   ]
  },
  {
   "cell_type": "code",
   "execution_count": 16,
   "metadata": {},
   "outputs": [],
   "source": [
    "from sklearn.naive_bayes import MultinomialNB\n",
    "clf = MultinomialNB().fit(x_train_tfidf, target)"
   ]
  },
  {
   "cell_type": "code",
   "execution_count": 17,
   "metadata": {},
   "outputs": [
    {
     "name": "stdout",
     "output_type": "stream",
     "text": [
      "['entertainment', 'sports', 'technology', 'politics', 'health', 'business', 'science']\n",
      "[1 1 1 ... 4 4 4]\n"
     ]
    }
   ],
   "source": [
    "print(categories)\n",
    "print(target)"
   ]
  },
  {
   "cell_type": "code",
   "execution_count": 44,
   "metadata": {},
   "outputs": [
    {
     "name": "stdout",
     "output_type": "stream",
     "text": [
      "50\n"
     ]
    }
   ],
   "source": [
    "test_data = []\n",
    "with open('headlines.txt', 'r+', encoding='utf-8') as f:\n",
    "    lines = f.readlines()\n",
    "    lines = [x.strip() for x in lines]\n",
    "    test_data.extend(lines)\n",
    "print(len(test_data))"
   ]
  },
  {
   "cell_type": "code",
   "execution_count": 45,
   "metadata": {},
   "outputs": [],
   "source": [
    "#test_data = [\"The value of losses from crime in the digital currency sector in 2018 hit $1.7 billion.\", \"15 jawans killed after Naxals trigger IED blast in Maharashtra's Gadchiroli.\",  \"iPhone XS specs vs. XS Max, XR, X: What's the same and different\", \"2 People Injured In Indiana School Shooting\", \"Twitter Bots May Have Delivered Donald Trump's Victory, Research Paper Says\", \"60 Seconds of Social Media\", \"My Son Only Read One Book in Middle School\"]\n",
    "#test_data = [\"Most developers should be familiar with Google's cross-platform, portable UI framework Flutter, which can make developing apps for both Android and iOS a whole lot easier. In fact, it just recently hit 1.0 late last year. Today, at the company's I/O developer\"]\n",
    "#test_data=[\"How the battle against measles varies around the world\", \"Shy fish no bigger than a pinkie provide much of the food in coral reefs\", \"BJP wants to piggyback on YSRCP to south, but Jagan may find it hard to help without special status for Andhra\", \"FDA Approves New Treatment for Diabetic Condition That Can Lead to Blindness\",\"Welspun in talks to own slum rehabilitation projects, loaned by Dewan Housing Finance Ltd\",\"PM Narendra Modi to host Chinese President Xi for an informal summit\",\"Brain Changes May Occur 30 Years Before Alzheimer’s Symptoms Appear\",\"TCS recognised among top 50 companies in US for diversity\",\" Facebook may launch its own cryptocurrency by 2020: Report\",\"Celebrating the versatile Pankaj Kapur's birthday with his memorable roles\",\"Surprise Kiwi selection Tom Blundell on brink of ODI debut in World Cup\"]\n",
    "x_test_tf = count_vect.transform(test_data)\n",
    "x_test_tfidf = tfidf_transformer.transform(x_test_tf)\n",
    "predicted = clf.predict(x_test_tfidf)"
   ]
  },
  {
   "cell_type": "code",
   "execution_count": 46,
   "metadata": {},
   "outputs": [
    {
     "name": "stdout",
     "output_type": "stream",
     "text": [
      "[5 6 5 3 6 6 3 1 3 5 3 5 3 3 3 0 5 1 5 5 5 5 1 1 3 5 1 3 3 3 5 5 5 1 3 1 3\n",
      " 5 6 5 1 3 1 5 5 6 3 3 1 3]\n"
     ]
    }
   ],
   "source": [
    "print(predicted)"
   ]
  },
  {
   "cell_type": "code",
   "execution_count": 47,
   "metadata": {},
   "outputs": [
    {
     "name": "stdout",
     "output_type": "stream",
     "text": [
      "50\n",
      "['sports', 'technology', 'sports', 'politics', 'technology', 'technology', 'politics', 'entertainment', 'politics', 'sports', 'politics', 'sports', 'politics', 'politics', 'politics', 'business', 'sports', 'entertainment', 'sports', 'sports', 'sports', 'sports', 'entertainment', 'entertainment', 'politics', 'sports', 'entertainment', 'politics', 'politics', 'politics', 'sports', 'sports', 'sports', 'entertainment', 'politics', 'entertainment', 'politics', 'sports', 'technology', 'sports', 'entertainment', 'politics', 'entertainment', 'sports', 'sports', 'technology', 'politics', 'politics', 'entertainment', 'politics']\n"
     ]
    }
   ],
   "source": [
    "#Testing the code\n",
    "#Decoding from numeral to category\n",
    "\n",
    "test_cat_list = []\n",
    "for x in predicted:\n",
    "    if x == 0:\n",
    "        test_cat_list.append('business')\n",
    "    #elif x == 1:\n",
    "    #    test_cat_list.append('general')\n",
    "    elif x == 1:\n",
    "        test_cat_list.append('entertainment')\n",
    "    elif x == 5:\n",
    "        test_cat_list.append('sports')\n",
    "    elif x == 3:\n",
    "        test_cat_list.append('politics')\n",
    "    elif x == 4:\n",
    "        test_cat_list.append('science')\n",
    "    elif x == 2:\n",
    "        test_cat_list.append('health')\n",
    "    elif x == 6:\n",
    "        test_cat_list.append('technology')\n",
    "print(len(test_cat_list))\n",
    "print(test_cat_list)"
   ]
  },
  {
   "cell_type": "code",
   "execution_count": 48,
   "metadata": {},
   "outputs": [],
   "source": [
    "#import pandas as pd\n",
    "#d = {'Headlines':test_data, 'Category':test_cat_list}\n",
    "#print(d)\n",
    "#dfd = pd.DataFrame(d)\n",
    "#print(dfd)"
   ]
  },
  {
   "cell_type": "code",
   "execution_count": 49,
   "metadata": {},
   "outputs": [],
   "source": [
    "#Direct Method \n",
    "\n",
    "import sklearn.datasets as skd\n",
    "from sklearn.pipeline import Pipeline\n",
    "from sklearn.feature_extraction.text import TfidfVectorizer\n",
    "from sklearn.naive_bayes import MultinomialNB"
   ]
  },
  {
   "cell_type": "code",
   "execution_count": 50,
   "metadata": {},
   "outputs": [],
   "source": [
    "text_clf = Pipeline([('vect', TfidfVectorizer()), \n",
    "                      ('clf', MultinomialNB()) ])\n"
   ]
  },
  {
   "cell_type": "code",
   "execution_count": 51,
   "metadata": {},
   "outputs": [],
   "source": [
    "text_clf.fit(data_list, target)\n",
    "predicted = text_clf.predict(test_data)\n",
    "pred_prob = text_clf.predict_proba(test_data)"
   ]
  },
  {
   "cell_type": "code",
   "execution_count": 52,
   "metadata": {},
   "outputs": [],
   "source": [
    "from sklearn import metrics\n",
    "from sklearn.metrics import accuracy_score\n",
    "import numpy as np"
   ]
  },
  {
   "cell_type": "code",
   "execution_count": 53,
   "metadata": {},
   "outputs": [
    {
     "data": {
      "text/plain": [
       "array([[0.07734419, 0.17729162, 0.0854083 , 0.18380734, 0.09059802,\n",
       "        0.2215564 , 0.16399413],\n",
       "       [0.09052773, 0.24349517, 0.07013046, 0.07347176, 0.03232325,\n",
       "        0.16605251, 0.32399912],\n",
       "       [0.17951748, 0.11121204, 0.06465152, 0.16405615, 0.05043195,\n",
       "        0.22618652, 0.20394435],\n",
       "       [0.07450389, 0.13579163, 0.05653662, 0.38965773, 0.04659075,\n",
       "        0.13725791, 0.15966146],\n",
       "       [0.08073169, 0.10233436, 0.06082661, 0.15580052, 0.05546088,\n",
       "        0.11504927, 0.42979667],\n",
       "       [0.03618684, 0.07423483, 0.01960071, 0.04210807, 0.02191607,\n",
       "        0.09077435, 0.71517913],\n",
       "       [0.05115332, 0.17734598, 0.0406673 , 0.48703561, 0.04251604,\n",
       "        0.1317073 , 0.06957445],\n",
       "       [0.05802789, 0.42705533, 0.04596608, 0.12563274, 0.05568783,\n",
       "        0.20590982, 0.08172031],\n",
       "       [0.11214442, 0.11316225, 0.07435414, 0.26433875, 0.08555993,\n",
       "        0.20583486, 0.14460566],\n",
       "       [0.06604014, 0.14227406, 0.06435977, 0.13910095, 0.05068464,\n",
       "        0.43785197, 0.09968849],\n",
       "       [0.0639816 , 0.22404527, 0.04435049, 0.31714047, 0.05245411,\n",
       "        0.16152579, 0.13650226],\n",
       "       [0.06326132, 0.20799784, 0.06304329, 0.24002163, 0.05199258,\n",
       "        0.27254551, 0.10113783],\n",
       "       [0.02322966, 0.06061272, 0.02550108, 0.77402382, 0.01984104,\n",
       "        0.05430958, 0.04248212],\n",
       "       [0.0615829 , 0.22790833, 0.06350019, 0.39890631, 0.03878269,\n",
       "        0.11509392, 0.09422566],\n",
       "       [0.07116269, 0.13204698, 0.09037172, 0.32772872, 0.07401415,\n",
       "        0.15599148, 0.14868426],\n",
       "       [0.19169842, 0.13218097, 0.09545876, 0.11362019, 0.10933296,\n",
       "        0.190538  , 0.1671707 ],\n",
       "       [0.11430177, 0.13615379, 0.06670913, 0.23481009, 0.05950466,\n",
       "        0.24452224, 0.14399831],\n",
       "       [0.04215212, 0.41606793, 0.03729692, 0.23819809, 0.0322186 ,\n",
       "        0.14729765, 0.08676869],\n",
       "       [0.09134359, 0.16848661, 0.14231142, 0.14765268, 0.09305244,\n",
       "        0.1786372 , 0.17851606],\n",
       "       [0.06900816, 0.20453533, 0.04669956, 0.14298402, 0.03844529,\n",
       "        0.41980606, 0.07852158],\n",
       "       [0.09603249, 0.16824616, 0.07299305, 0.13581388, 0.08966612,\n",
       "        0.33744668, 0.09980162],\n",
       "       [0.05940472, 0.15588768, 0.04944484, 0.10386478, 0.03814652,\n",
       "        0.45632243, 0.13692903],\n",
       "       [0.06562769, 0.50350449, 0.05510187, 0.12684484, 0.0582029 ,\n",
       "        0.09180521, 0.09891301],\n",
       "       [0.08764733, 0.21967815, 0.13418279, 0.1586166 , 0.1149922 ,\n",
       "        0.1244178 , 0.16046512],\n",
       "       [0.15534624, 0.1803691 , 0.0653149 , 0.23865603, 0.0791065 ,\n",
       "        0.1554189 , 0.12578832],\n",
       "       [0.09412532, 0.19785121, 0.10916739, 0.19605066, 0.08564904,\n",
       "        0.20338066, 0.11377573],\n",
       "       [0.08511936, 0.25340083, 0.09321374, 0.1370568 , 0.05835474,\n",
       "        0.25038806, 0.12246648],\n",
       "       [0.06516114, 0.15288047, 0.08860748, 0.33740921, 0.06544801,\n",
       "        0.1955416 , 0.09495209],\n",
       "       [0.0542449 , 0.21473312, 0.04414707, 0.39887122, 0.04741962,\n",
       "        0.14850233, 0.09208175],\n",
       "       [0.06746216, 0.20312431, 0.04544084, 0.2877925 , 0.04689329,\n",
       "        0.17979807, 0.16948883],\n",
       "       [0.08842183, 0.23722085, 0.0722781 , 0.2043302 , 0.0527275 ,\n",
       "        0.24820452, 0.096817  ],\n",
       "       [0.0592842 , 0.16234359, 0.04032048, 0.11710658, 0.04062368,\n",
       "        0.46554892, 0.11477254],\n",
       "       [0.08841449, 0.23192599, 0.06535062, 0.13404418, 0.05703037,\n",
       "        0.26870865, 0.1545257 ],\n",
       "       [0.07953971, 0.43978629, 0.05120754, 0.11388519, 0.06065118,\n",
       "        0.11654869, 0.1383814 ],\n",
       "       [0.12253885, 0.17093588, 0.08840469, 0.18656203, 0.12156657,\n",
       "        0.16229553, 0.14769645],\n",
       "       [0.06532727, 0.50587505, 0.0547949 , 0.1263789 , 0.05789449,\n",
       "        0.09130885, 0.09842054],\n",
       "       [0.07942447, 0.17717634, 0.11680604, 0.21385906, 0.09078864,\n",
       "        0.16793456, 0.1540109 ],\n",
       "       [0.08278927, 0.18066956, 0.08862883, 0.11443918, 0.08596528,\n",
       "        0.25815208, 0.18935581],\n",
       "       [0.16417844, 0.11604123, 0.04227521, 0.11958221, 0.05251973,\n",
       "        0.12708387, 0.37831931],\n",
       "       [0.04693945, 0.25513217, 0.03998294, 0.26820038, 0.03597459,\n",
       "        0.27841846, 0.07535201],\n",
       "       [0.0757366 , 0.42393201, 0.06386626, 0.14563707, 0.07089163,\n",
       "        0.10595512, 0.11398131],\n",
       "       [0.15503786, 0.15685108, 0.06554694, 0.20641187, 0.06647886,\n",
       "        0.17552698, 0.1741464 ],\n",
       "       [0.07470303, 0.26295983, 0.0610614 , 0.18589102, 0.07479885,\n",
       "        0.15293498, 0.18765089],\n",
       "       [0.06276647, 0.22077124, 0.05214675, 0.19085365, 0.05501783,\n",
       "        0.2472091 , 0.17123496],\n",
       "       [0.15858577, 0.15221043, 0.12823193, 0.16523331, 0.06757505,\n",
       "        0.21596505, 0.11219846],\n",
       "       [0.12762975, 0.13259139, 0.06143891, 0.17972553, 0.03977034,\n",
       "        0.13248633, 0.32635775],\n",
       "       [0.06481232, 0.1559168 , 0.05363995, 0.39110476, 0.04876842,\n",
       "        0.16932467, 0.11643309],\n",
       "       [0.06766697, 0.20914133, 0.04641349, 0.32296152, 0.04540394,\n",
       "        0.21910858, 0.08930418],\n",
       "       [0.04077137, 0.54689765, 0.03829674, 0.10761   , 0.03960848,\n",
       "        0.12726003, 0.09955574],\n",
       "       [0.07642582, 0.13256956, 0.05547385, 0.36528682, 0.04948997,\n",
       "        0.18952801, 0.13122597]])"
      ]
     },
     "execution_count": 53,
     "metadata": {},
     "output_type": "execute_result"
    }
   ],
   "source": [
    "#predicted\n",
    "pred_prob "
   ]
  },
  {
   "cell_type": "code",
   "execution_count": 54,
   "metadata": {},
   "outputs": [
    {
     "name": "stdout",
     "output_type": "stream",
     "text": [
      "50\n"
     ]
    }
   ],
   "source": [
    "#print(type(pred_prob))\n",
    "#print(len (pred_prob))\n",
    "#print (pred_prob[0])\n",
    "#print(np.amax(pred_prob[0]))\n",
    "prob_list =[]\n",
    "for i in range(len(pred_prob)):\n",
    "    prob_list.append(np.amax(pred_prob[i]))\n",
    "print (len(prob_list))"
   ]
  },
  {
   "cell_type": "code",
   "execution_count": 55,
   "metadata": {
    "scrolled": false
   },
   "outputs": [
    {
     "name": "stdout",
     "output_type": "stream",
     "text": [
      "<class 'pandas.core.frame.DataFrame'>\n"
     ]
    }
   ],
   "source": [
    "d = {'Headlines':test_data, 'Category':test_cat_list, 'Probability':prob_list}\n",
    "#print(d)\n",
    "dfd = pd.DataFrame(d)\n",
    "print(type(dfd))"
   ]
  },
  {
   "cell_type": "code",
   "execution_count": 56,
   "metadata": {},
   "outputs": [
    {
     "name": "stdout",
     "output_type": "stream",
     "text": [
      "<class 'pandas.core.frame.DataFrame'>\n"
     ]
    }
   ],
   "source": [
    "#fp = open('analysis.txt', 'w')\n",
    "#fp.write(dfd)\n",
    "#fp.close()\n",
    "#np.savetxt(r'./analysis.txt', dfd.values, fmt='%s')\n",
    "ds = dfd.applymap(str)\n",
    "print(type(ds))\n",
    "ds.to_csv('/mnt/h/workSpace/news-project/analysis.csv')\n",
    "np.savetxt(r'./analysis.txt', ds.values, fmt='%s',encoding=\"utf-8\",header=\"Headlines\\tCategories\\tProbability\")"
   ]
  },
  {
   "cell_type": "code",
   "execution_count": null,
   "metadata": {},
   "outputs": [],
   "source": []
  }
 ],
 "metadata": {
  "kernelspec": {
   "display_name": "Python 3",
   "language": "python",
   "name": "python3"
  },
  "language_info": {
   "codemirror_mode": {
    "name": "ipython",
    "version": 3
   },
   "file_extension": ".py",
   "mimetype": "text/x-python",
   "name": "python",
   "nbconvert_exporter": "python",
   "pygments_lexer": "ipython3",
   "version": "3.6.7"
  }
 },
 "nbformat": 4,
 "nbformat_minor": 2
}
