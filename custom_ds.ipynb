{
 "cells": [
  {
   "cell_type": "code",
   "execution_count": 32,
   "metadata": {},
   "outputs": [
    {
     "data": {
      "text/plain": [
       "list"
      ]
     },
     "execution_count": 32,
     "metadata": {},
     "output_type": "execute_result"
    }
   ],
   "source": [
    "categories = [\"entertainment\", \"sports\", \"technology\", \"politics\",\"health\", \"business\", \"science\"]\n",
    "#categories = [\"entertainment\", \"sports\", \"technology\", \"politics\"]\n",
    "type(categories)"
   ]
  },
  {
   "cell_type": "code",
   "execution_count": 33,
   "metadata": {},
   "outputs": [
    {
     "name": "stdout",
     "output_type": "stream",
     "text": [
      "entertainment\n",
      "sports\n",
      "technology\n",
      "politics\n",
      "health\n",
      "business\n",
      "science\n"
     ]
    }
   ],
   "source": [
    "cat_list = []\n",
    "data_list = []\n",
    "for cat in categories:\n",
    "    print(cat)\n",
    "    with open('{}.txt'.format(cat), encoding='utf-8') as f:\n",
    "    #lines = [line.rstrip('\\n') for line in open('{}.txt'.format(cat))]\n",
    "        lines=f.readlines()\n",
    "        lines = [x.strip() for x in lines]\n",
    "        data_list.extend(lines)\n",
    "        le = len(lines)\n",
    "        for r in range(le):\n",
    "            cat_list.append(cat)"
   ]
  },
  {
   "cell_type": "code",
   "execution_count": 34,
   "metadata": {},
   "outputs": [
    {
     "name": "stdout",
     "output_type": "stream",
     "text": [
      "2859\n",
      "2859\n"
     ]
    }
   ],
   "source": [
    "print(len(data_list))\n",
    "#print(data_list)\n",
    "print(len(cat_list))\n",
    "#print(cat_list)"
   ]
  },
  {
   "cell_type": "code",
   "execution_count": 35,
   "metadata": {},
   "outputs": [
    {
     "name": "stdout",
     "output_type": "stream",
     "text": [
      "2859\n",
      "[1 1 1 ... 4 4 4]\n"
     ]
    }
   ],
   "source": [
    "from sklearn import preprocessing\n",
    "le = preprocessing.LabelEncoder()\n",
    "target = le.fit_transform(cat_list)\n",
    "print(len(target))\n",
    "print(target)"
   ]
  },
  {
   "cell_type": "code",
   "execution_count": 47,
   "metadata": {},
   "outputs": [
    {
     "name": "stdout",
     "output_type": "stream",
     "text": [
      "Headlines    Foreign investors' equity will continue to inc...\n",
      "Category                                              business\n",
      "Target                                                       0\n",
      "Name: 2600, dtype: object\n"
     ]
    }
   ],
   "source": [
    "#TESTING\n",
    "\n",
    "import pandas as pd\n",
    "d = {'Headlines':data_list, 'Category':cat_list, 'Target': target}\n",
    "#print(d)\n",
    "df = pd.DataFrame(d)\n",
    "print(df.iloc[2600])"
   ]
  },
  {
   "cell_type": "code",
   "execution_count": 37,
   "metadata": {},
   "outputs": [
    {
     "name": "stdout",
     "output_type": "stream",
     "text": [
      "<class 'list'>\n",
      "(2859, 10917)\n",
      "[[0 0 0 ... 0 0 0]\n",
      " [0 0 0 ... 0 0 0]\n",
      " [0 0 0 ... 0 0 0]\n",
      " ...\n",
      " [0 0 0 ... 0 0 0]\n",
      " [0 0 0 ... 0 0 0]\n",
      " [0 0 0 ... 0 0 0]]\n"
     ]
    }
   ],
   "source": [
    "from sklearn.feature_extraction.text import CountVectorizer\n",
    "count_vect = CountVectorizer()\n",
    "x_train_tf = count_vect.fit_transform(data_list)\n",
    "print(type(data_list))\n",
    "print(x_train_tf.shape)\n",
    "print(x_train_tf.toarray())"
   ]
  },
  {
   "cell_type": "code",
   "execution_count": 38,
   "metadata": {},
   "outputs": [
    {
     "data": {
      "text/plain": [
       "(2859, 10917)"
      ]
     },
     "execution_count": 38,
     "metadata": {},
     "output_type": "execute_result"
    }
   ],
   "source": [
    "from sklearn.feature_extraction.text import TfidfTransformer\n",
    "tfidf_transformer = TfidfTransformer()\n",
    "x_train_tfidf = tfidf_transformer.fit_transform(x_train_tf)\n",
    "x_train_tfidf.shape"
   ]
  },
  {
   "cell_type": "code",
   "execution_count": 39,
   "metadata": {},
   "outputs": [],
   "source": [
    "from sklearn.naive_bayes import MultinomialNB\n",
    "clf = MultinomialNB().fit(x_train_tfidf, target)"
   ]
  },
  {
   "cell_type": "code",
   "execution_count": 40,
   "metadata": {},
   "outputs": [
    {
     "name": "stdout",
     "output_type": "stream",
     "text": [
      "['entertainment', 'sports', 'technology', 'politics', 'health', 'business', 'science']\n",
      "[1 1 1 ... 4 4 4]\n"
     ]
    }
   ],
   "source": [
    "print(categories)\n",
    "print(target)"
   ]
  },
  {
   "cell_type": "code",
   "execution_count": 41,
   "metadata": {},
   "outputs": [
    {
     "name": "stdout",
     "output_type": "stream",
     "text": [
      "50\n"
     ]
    }
   ],
   "source": [
    "test_data = []\n",
    "with open('headlines.txt', 'r+', encoding='utf-8') as f:\n",
    "    lines = f.readlines()\n",
    "    lines = [x.strip() for x in lines]\n",
    "    test_data.extend(lines)\n",
    "print(len(test_data))"
   ]
  },
  {
   "cell_type": "code",
   "execution_count": 42,
   "metadata": {},
   "outputs": [],
   "source": [
    "#test_data = [\"The value of losses from crime in the digital currency sector in 2018 hit $1.7 billion.\", \"15 jawans killed after Naxals trigger IED blast in Maharashtra's Gadchiroli.\",  \"iPhone XS specs vs. XS Max, XR, X: What's the same and different\", \"2 People Injured In Indiana School Shooting\", \"Twitter Bots May Have Delivered Donald Trump's Victory, Research Paper Says\", \"60 Seconds of Social Media\", \"My Son Only Read One Book in Middle School\"]\n",
    "#test_data = [\"Most developers should be familiar with Google's cross-platform, portable UI framework Flutter, which can make developing apps for both Android and iOS a whole lot easier. In fact, it just recently hit 1.0 late last year. Today, at the company's I/O developer\"]\n",
    "#test_data=[\"How the battle against measles varies around the world\", \"Shy fish no bigger than a pinkie provide much of the food in coral reefs\", \"BJP wants to piggyback on YSRCP to south, but Jagan may find it hard to help without special status for Andhra\", \"FDA Approves New Treatment for Diabetic Condition That Can Lead to Blindness\",\"Welspun in talks to own slum rehabilitation projects, loaned by Dewan Housing Finance Ltd\",\"PM Narendra Modi to host Chinese President Xi for an informal summit\",\"Brain Changes May Occur 30 Years Before Alzheimer’s Symptoms Appear\",\"TCS recognised among top 50 companies in US for diversity\",\" Facebook may launch its own cryptocurrency by 2020: Report\",\"Celebrating the versatile Pankaj Kapur's birthday with his memorable roles\",\"Surprise Kiwi selection Tom Blundell on brink of ODI debut in World Cup\"]\n",
    "x_test_tf = count_vect.transform(test_data)\n",
    "x_test_tfidf = tfidf_transformer.transform(x_test_tf)\n",
    "predicted = clf.predict(x_test_tfidf)"
   ]
  },
  {
   "cell_type": "code",
   "execution_count": 43,
   "metadata": {},
   "outputs": [
    {
     "name": "stdout",
     "output_type": "stream",
     "text": [
      "[1 3 5 6 6 5 6 1 5 5 6 5 6 5 6 1 6 1 6 1 6 5 6 5 6 5 5 5 5 5 6 3 5 5 3 5 5\n",
      " 5 5 5 5 5 5 5 6 5 3 5 3 3]\n"
     ]
    }
   ],
   "source": [
    "print(predicted)"
   ]
  },
  {
   "cell_type": "code",
   "execution_count": 48,
   "metadata": {},
   "outputs": [
    {
     "name": "stdout",
     "output_type": "stream",
     "text": [
      "50\n",
      "['entertainment', 'politics', 'sports', 'technology', 'technology', 'sports', 'technology', 'entertainment', 'sports', 'sports', 'technology', 'sports', 'technology', 'sports', 'technology', 'entertainment', 'technology', 'entertainment', 'technology', 'entertainment', 'technology', 'sports', 'technology', 'sports', 'technology', 'sports', 'sports', 'sports', 'sports', 'sports', 'technology', 'politics', 'sports', 'sports', 'politics', 'sports', 'sports', 'sports', 'sports', 'sports', 'sports', 'sports', 'sports', 'sports', 'technology', 'sports', 'politics', 'sports', 'politics', 'politics']\n"
     ]
    }
   ],
   "source": [
    "#Testing the code\n",
    "#Decoding from numeral to category\n",
    "\n",
    "test_cat_list = []\n",
    "for x in predicted:\n",
    "    if x == 0:\n",
    "        test_cat_list.append('business')\n",
    "    #elif x == 1:\n",
    "    #    test_cat_list.append('general')\n",
    "    elif x == 1:\n",
    "        test_cat_list.append('entertainment')\n",
    "    elif x == 5:\n",
    "        test_cat_list.append('sports')\n",
    "    elif x == 3:\n",
    "        test_cat_list.append('politics')\n",
    "    elif x == 4:\n",
    "        test_cat_list.append('science')\n",
    "    elif x == 2:\n",
    "        test_cat_list.append('health')\n",
    "    elif x == 6:\n",
    "        test_cat_list.append('technology')\n",
    "print(len(test_cat_list))\n",
    "print(test_cat_list)"
   ]
  },
  {
   "cell_type": "code",
   "execution_count": 109,
   "metadata": {},
   "outputs": [],
   "source": [
    "#import pandas as pd\n",
    "#d = {'Headlines':test_data, 'Category':test_cat_list}\n",
    "#print(d)\n",
    "#dfd = pd.DataFrame(d)\n",
    "#print(dfd)"
   ]
  },
  {
   "cell_type": "code",
   "execution_count": 49,
   "metadata": {},
   "outputs": [],
   "source": [
    "#Direct Method \n",
    "\n",
    "import sklearn.datasets as skd\n",
    "from sklearn.pipeline import Pipeline\n",
    "from sklearn.feature_extraction.text import TfidfVectorizer\n",
    "from sklearn.naive_bayes import MultinomialNB"
   ]
  },
  {
   "cell_type": "code",
   "execution_count": 50,
   "metadata": {},
   "outputs": [],
   "source": [
    "text_clf = Pipeline([('vect', TfidfVectorizer()), \n",
    "                      ('clf', MultinomialNB()) ])\n"
   ]
  },
  {
   "cell_type": "code",
   "execution_count": 51,
   "metadata": {},
   "outputs": [],
   "source": [
    "text_clf.fit(data_list, target)\n",
    "predicted = text_clf.predict(test_data)\n",
    "pred_prob = text_clf.predict_proba(test_data)"
   ]
  },
  {
   "cell_type": "code",
   "execution_count": 52,
   "metadata": {},
   "outputs": [],
   "source": [
    "from sklearn import metrics\n",
    "from sklearn.metrics import accuracy_score\n",
    "import numpy as np"
   ]
  },
  {
   "cell_type": "code",
   "execution_count": 53,
   "metadata": {},
   "outputs": [
    {
     "data": {
      "text/plain": [
       "array([[9.43598190e-03, 3.81913467e-01, 1.00981470e-02, 7.87314349e-02,\n",
       "        9.10743499e-03, 1.96155401e-01, 3.14558133e-01],\n",
       "       [1.40758932e-02, 8.86127439e-02, 1.33026815e-02, 6.92558642e-01,\n",
       "        1.56285154e-02, 9.61940865e-02, 7.96274377e-02],\n",
       "       [1.44756758e-02, 2.78212415e-01, 1.36459322e-02, 8.73066711e-02,\n",
       "        1.38683945e-02, 3.73779922e-01, 2.18710989e-01],\n",
       "       [2.53797562e-02, 1.09593347e-01, 1.38490940e-02, 1.92695580e-01,\n",
       "        1.78569230e-02, 2.19192487e-01, 4.21432814e-01],\n",
       "       [4.08738770e-02, 2.07945974e-01, 4.66385462e-02, 2.25849310e-01,\n",
       "        3.35641708e-02, 1.39559113e-01, 3.05569009e-01],\n",
       "       [1.23007389e-02, 1.54416720e-01, 6.61711044e-03, 1.61933700e-01,\n",
       "        7.85137320e-03, 4.55477412e-01, 2.01402945e-01],\n",
       "       [1.91630725e-02, 1.33921802e-01, 2.89187864e-02, 1.48095415e-01,\n",
       "        1.33713381e-02, 2.43175997e-01, 4.13353589e-01],\n",
       "       [1.09001117e-02, 4.68042258e-01, 1.15258756e-02, 1.05699049e-01,\n",
       "        9.62229884e-03, 1.65577087e-01, 2.28633319e-01],\n",
       "       [5.81955798e-02, 2.12993885e-01, 3.51266072e-02, 2.27308833e-01,\n",
       "        3.32883170e-02, 2.27637557e-01, 2.05449222e-01],\n",
       "       [1.54564914e-02, 2.60194489e-01, 1.57864845e-02, 2.27559903e-01,\n",
       "        1.66780921e-02, 3.19841560e-01, 1.44482980e-01],\n",
       "       [2.21762706e-02, 2.47995861e-01, 1.85660925e-02, 1.61876048e-01,\n",
       "        2.25855603e-02, 2.53971540e-01, 2.72828628e-01],\n",
       "       [9.88288426e-03, 2.69324975e-01, 8.52906189e-03, 2.40776956e-01,\n",
       "        8.30045915e-03, 3.37294859e-01, 1.25890805e-01],\n",
       "       [1.26047098e-02, 7.24302793e-02, 6.99336145e-03, 1.12460633e-01,\n",
       "        9.78798361e-03, 1.13371562e-01, 6.72351471e-01],\n",
       "       [8.85165206e-03, 3.75355203e-01, 5.06434959e-03, 1.19816821e-01,\n",
       "        5.53497143e-03, 3.80921250e-01, 1.04455752e-01],\n",
       "       [1.32162549e-02, 7.77645045e-02, 8.44590281e-03, 7.28715854e-02,\n",
       "        1.25848963e-02, 1.45282657e-01, 6.69834199e-01],\n",
       "       [2.53393050e-02, 3.66122888e-01, 1.41628883e-02, 1.10437464e-01,\n",
       "        1.84902910e-02, 3.35216111e-01, 1.30231053e-01],\n",
       "       [1.17322239e-02, 2.71359992e-01, 1.19041426e-02, 1.42290736e-01,\n",
       "        1.05801761e-02, 2.19123828e-01, 3.33008902e-01],\n",
       "       [6.93022534e-03, 5.16354915e-01, 1.15172712e-02, 7.47250072e-02,\n",
       "        9.47675482e-03, 1.28661313e-01, 2.52334513e-01],\n",
       "       [3.21637056e-02, 2.02948102e-01, 3.60200996e-02, 1.16879736e-01,\n",
       "        3.81770673e-02, 2.63166734e-01, 3.10644555e-01],\n",
       "       [1.95745668e-02, 3.11757463e-01, 1.50197498e-02, 7.88269977e-02,\n",
       "        1.70466840e-02, 2.76142579e-01, 2.81631959e-01],\n",
       "       [3.22487142e-03, 6.88478316e-02, 3.09943741e-03, 1.42062550e-02,\n",
       "        3.11864216e-03, 5.44528761e-02, 8.53050086e-01],\n",
       "       [2.50655854e-02, 2.62406710e-01, 1.70270340e-02, 1.33394826e-01,\n",
       "        2.43223235e-02, 3.05244186e-01, 2.32539335e-01],\n",
       "       [1.39651079e-02, 3.03002626e-01, 1.82590115e-02, 9.57111202e-02,\n",
       "        1.53169056e-02, 1.84399581e-01, 3.69345648e-01],\n",
       "       [4.63009711e-02, 1.88638050e-01, 4.42654702e-02, 2.32680801e-01,\n",
       "        4.67824052e-02, 2.57936081e-01, 1.83396222e-01],\n",
       "       [2.00910547e-02, 2.46127503e-01, 1.48404586e-02, 1.04529318e-01,\n",
       "        1.84364587e-02, 2.60097739e-01, 3.35877468e-01],\n",
       "       [7.23981383e-04, 2.06254492e-02, 4.63314696e-04, 6.32591152e-03,\n",
       "        6.76058984e-04, 9.61472146e-01, 9.71313787e-03],\n",
       "       [2.89268704e-03, 3.03094908e-02, 1.67269211e-03, 4.20345529e-02,\n",
       "        2.12798305e-03, 8.92828102e-01, 2.81344918e-02],\n",
       "       [5.84620775e-03, 5.00297563e-02, 3.61731854e-03, 3.25573172e-02,\n",
       "        4.26513525e-03, 8.67307724e-01, 3.63765405e-02],\n",
       "       [1.20994889e-03, 2.57137521e-02, 9.25909349e-04, 9.42945749e-03,\n",
       "        1.18853146e-03, 9.51265205e-01, 1.02671953e-02],\n",
       "       [9.91545221e-04, 2.62858615e-02, 5.10325571e-04, 6.99251454e-03,\n",
       "        6.10742216e-04, 9.53534064e-01, 1.10749468e-02],\n",
       "       [2.15462345e-02, 1.14024864e-01, 1.30790821e-02, 1.43763418e-01,\n",
       "        1.63741109e-02, 1.56171993e-01, 5.35040298e-01],\n",
       "       [1.00754878e-02, 1.83801372e-01, 1.07219031e-02, 3.03256864e-01,\n",
       "        1.14417006e-02, 2.84386734e-01, 1.96315939e-01],\n",
       "       [2.41711119e-02, 1.90588574e-01, 2.28553643e-02, 1.34987269e-01,\n",
       "        2.99928135e-02, 3.49180411e-01, 2.48224457e-01],\n",
       "       [1.31548985e-02, 2.42927072e-01, 8.53470528e-03, 1.53458072e-01,\n",
       "        7.35740154e-03, 4.26936515e-01, 1.47631336e-01],\n",
       "       [2.05977440e-02, 1.42069647e-01, 1.43849555e-02, 3.49044577e-01,\n",
       "        1.65034817e-02, 3.06237752e-01, 1.51161843e-01],\n",
       "       [1.29510524e-02, 1.52329308e-01, 8.44165589e-03, 3.25481603e-01,\n",
       "        8.84153020e-03, 3.68431107e-01, 1.23523744e-01],\n",
       "       [4.00108143e-03, 4.91901832e-02, 2.89945497e-03, 3.26635659e-02,\n",
       "        4.09727804e-03, 8.48643175e-01, 5.85052610e-02],\n",
       "       [1.28500077e-02, 1.90614009e-01, 8.91806116e-03, 1.82891564e-01,\n",
       "        8.61825391e-03, 3.89220849e-01, 2.06887255e-01],\n",
       "       [1.28650413e-02, 2.85620591e-01, 1.08814553e-02, 1.93174577e-01,\n",
       "        1.10387460e-02, 3.61554640e-01, 1.24864949e-01],\n",
       "       [1.78286231e-02, 2.52956023e-01, 1.41859367e-02, 2.36047264e-01,\n",
       "        1.67440982e-02, 3.12905844e-01, 1.49332211e-01],\n",
       "       [1.44292649e-02, 2.40353038e-01, 9.68425814e-03, 1.43827012e-01,\n",
       "        8.49056772e-03, 3.53194696e-01, 2.30021164e-01],\n",
       "       [2.85566642e-03, 6.50089327e-02, 2.03354211e-03, 3.93598803e-02,\n",
       "        2.89868099e-03, 8.35878033e-01, 5.19652644e-02],\n",
       "       [6.37149022e-03, 3.92673055e-01, 5.55544888e-03, 4.81637240e-02,\n",
       "        3.71791899e-03, 4.40752090e-01, 1.02766273e-01],\n",
       "       [7.00704679e-03, 2.88618832e-01, 7.32458360e-03, 1.93437765e-01,\n",
       "        8.37788153e-03, 3.91226950e-01, 1.04006941e-01],\n",
       "       [2.98204209e-02, 1.21632727e-01, 1.30674116e-02, 2.11190587e-01,\n",
       "        1.36994914e-02, 2.99872419e-01, 3.10716944e-01],\n",
       "       [1.88032547e-02, 1.86727449e-01, 1.36983568e-02, 1.97389244e-01,\n",
       "        1.40959842e-02, 4.41356609e-01, 1.27929103e-01],\n",
       "       [6.87065386e-03, 7.52937970e-02, 4.72350685e-03, 6.12584833e-01,\n",
       "        5.25846573e-03, 2.15207250e-01, 8.00614933e-02],\n",
       "       [1.38441364e-02, 1.22074609e-01, 7.11586777e-03, 1.88897822e-01,\n",
       "        5.67499456e-03, 3.39488475e-01, 3.22904095e-01],\n",
       "       [1.55337015e-02, 1.77787292e-01, 1.18685045e-02, 3.59747404e-01,\n",
       "        1.08920626e-02, 3.05925844e-01, 1.18245192e-01],\n",
       "       [1.75131389e-02, 1.27559714e-01, 1.29584767e-02, 4.83831542e-01,\n",
       "        1.21620082e-02, 2.27819366e-01, 1.18155754e-01]])"
      ]
     },
     "execution_count": 53,
     "metadata": {},
     "output_type": "execute_result"
    }
   ],
   "source": [
    "#predicted\n",
    "pred_prob "
   ]
  },
  {
   "cell_type": "code",
   "execution_count": 54,
   "metadata": {},
   "outputs": [
    {
     "name": "stdout",
     "output_type": "stream",
     "text": [
      "50\n"
     ]
    }
   ],
   "source": [
    "#print(type(pred_prob))\n",
    "#print(len (pred_prob))\n",
    "#print (pred_prob[0])\n",
    "#print(np.amax(pred_prob[0]))\n",
    "prob_list =[]\n",
    "for i in range(len(pred_prob)):\n",
    "    prob_list.append(np.amax(pred_prob[i]))\n",
    "print (len(prob_list))"
   ]
  },
  {
   "cell_type": "code",
   "execution_count": 55,
   "metadata": {
    "scrolled": false
   },
   "outputs": [
    {
     "name": "stdout",
     "output_type": "stream",
     "text": [
      "<class 'pandas.core.frame.DataFrame'>\n"
     ]
    }
   ],
   "source": [
    "d = {'Headlines':test_data, 'Category':test_cat_list, 'Probability':prob_list}\n",
    "#print(d)\n",
    "dfd = pd.DataFrame(d)\n",
    "print(type(dfd))"
   ]
  },
  {
   "cell_type": "code",
   "execution_count": 57,
   "metadata": {},
   "outputs": [
    {
     "name": "stdout",
     "output_type": "stream",
     "text": [
      "<class 'pandas.core.frame.DataFrame'>\n"
     ]
    }
   ],
   "source": [
    "#fp = open('analysis.txt', 'w')\n",
    "#fp.write(dfd)\n",
    "#fp.close()\n",
    "#np.savetxt(r'./analysis.txt', dfd.values, fmt='%s')\n",
    "ds = dfd.applymap(str)\n",
    "print(type(ds))\n",
    "ds.to_csv('/mnt/h/workSpace/news-project/analysis.csv')\n",
    "np.savetxt(r'./analysis.txt', ds.values, fmt='%s',encoding=\"utf-8\",header=\"Headlines\\tCategories\\tProbability\")"
   ]
  },
  {
   "cell_type": "code",
   "execution_count": null,
   "metadata": {},
   "outputs": [],
   "source": []
  }
 ],
 "metadata": {
  "kernelspec": {
   "display_name": "Python 3",
   "language": "python",
   "name": "python3"
  },
  "language_info": {
   "codemirror_mode": {
    "name": "ipython",
    "version": 3
   },
   "file_extension": ".py",
   "mimetype": "text/x-python",
   "name": "python",
   "nbconvert_exporter": "python",
   "pygments_lexer": "ipython3",
   "version": "3.6.7"
  }
 },
 "nbformat": 4,
 "nbformat_minor": 2
}
