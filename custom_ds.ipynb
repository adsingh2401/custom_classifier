{
 "cells": [
  {
   "cell_type": "code",
   "execution_count": 37,
   "metadata": {},
   "outputs": [
    {
     "data": {
      "text/plain": [
       "list"
      ]
     },
     "execution_count": 37,
     "metadata": {},
     "output_type": "execute_result"
    }
   ],
   "source": [
    "categories = [\"entertainment\", \"sports\", \"technology\", \"politics\",\"health\", \"business\", \"science\"]\n",
    "type(categories)"
   ]
  },
  {
   "cell_type": "code",
   "execution_count": 87,
   "metadata": {},
   "outputs": [
    {
     "name": "stdout",
     "output_type": "stream",
     "text": [
      "entertainment\n",
      "sports\n",
      "technology\n",
      "politics\n",
      "health\n",
      "business\n",
      "science\n"
     ]
    }
   ],
   "source": [
    "cat_list = []\n",
    "data_list = []\n",
    "for cat in categories:\n",
    "    print(cat)\n",
    "    with open('{}.txt'.format(cat)) as f:\n",
    "    #lines = [line.rstrip('\\n') for line in open('{}.txt'.format(cat))]\n",
    "        lines=f.readlines()\n",
    "        lines = [x.strip() for x in lines]\n",
    "        data_list.extend(lines)\n",
    "        le = len(lines)\n",
    "        for r in range(le):\n",
    "            cat_list.append(cat)"
   ]
  },
  {
   "cell_type": "code",
   "execution_count": 88,
   "metadata": {},
   "outputs": [
    {
     "name": "stdout",
     "output_type": "stream",
     "text": [
      "2647\n",
      "2647\n"
     ]
    }
   ],
   "source": [
    "print(len(data_list))\n",
    "#print(data_list)\n",
    "print(len(cat_list))\n",
    "#print(cat_list)"
   ]
  },
  {
   "cell_type": "code",
   "execution_count": 89,
   "metadata": {},
   "outputs": [
    {
     "name": "stdout",
     "output_type": "stream",
     "text": [
      "2647\n",
      "[1 1 1 ... 4 4 4]\n"
     ]
    }
   ],
   "source": [
    "from sklearn import preprocessing\n",
    "le = preprocessing.LabelEncoder()\n",
    "target = le.fit_transform(cat_list)\n",
    "print(len(target))\n",
    "print(target)"
   ]
  },
  {
   "cell_type": "code",
   "execution_count": 91,
   "metadata": {},
   "outputs": [
    {
     "name": "stdout",
     "output_type": "stream",
     "text": [
      "Category                                         entertainment\n",
      "Headlines    Mother's Day is being celebrated across the wo...\n",
      "Target                                                       1\n",
      "Name: 330, dtype: object\n"
     ]
    }
   ],
   "source": [
    "#TESTING\n",
    "\n",
    "import pandas as pd\n",
    "d = {'Headlines':data_list, 'Category':cat_list, 'Target': target}\n",
    "#print(d)\n",
    "df = pd.DataFrame(d)\n",
    "print(df.iloc[330])"
   ]
  },
  {
   "cell_type": "code",
   "execution_count": 92,
   "metadata": {},
   "outputs": [
    {
     "name": "stdout",
     "output_type": "stream",
     "text": [
      "<class 'list'>\n",
      "(2647, 10251)\n",
      "[[0 0 0 ... 0 0 0]\n",
      " [0 0 0 ... 0 0 0]\n",
      " [0 0 0 ... 0 0 0]\n",
      " ...\n",
      " [0 0 0 ... 0 0 0]\n",
      " [0 0 0 ... 0 0 0]\n",
      " [0 0 0 ... 0 0 0]]\n"
     ]
    }
   ],
   "source": [
    "from sklearn.feature_extraction.text import CountVectorizer\n",
    "count_vect = CountVectorizer()\n",
    "x_train_tf = count_vect.fit_transform(data_list)\n",
    "print(type(data_list))\n",
    "print(x_train_tf.shape)\n",
    "print(x_train_tf.toarray())"
   ]
  },
  {
   "cell_type": "code",
   "execution_count": 93,
   "metadata": {},
   "outputs": [
    {
     "data": {
      "text/plain": [
       "(2647, 10251)"
      ]
     },
     "execution_count": 93,
     "metadata": {},
     "output_type": "execute_result"
    }
   ],
   "source": [
    "from sklearn.feature_extraction.text import TfidfTransformer\n",
    "tfidf_transformer = TfidfTransformer()\n",
    "x_train_tfidf = tfidf_transformer.fit_transform(x_train_tf)\n",
    "x_train_tfidf.shape"
   ]
  },
  {
   "cell_type": "code",
   "execution_count": 94,
   "metadata": {},
   "outputs": [],
   "source": [
    "from sklearn.naive_bayes import MultinomialNB\n",
    "clf = MultinomialNB().fit(x_train_tfidf, target)"
   ]
  },
  {
   "cell_type": "code",
   "execution_count": 95,
   "metadata": {},
   "outputs": [
    {
     "name": "stdout",
     "output_type": "stream",
     "text": [
      "['entertainment', 'sports', 'technology', 'politics', 'health', 'business', 'science']\n",
      "[1 1 1 ... 4 4 4]\n"
     ]
    }
   ],
   "source": [
    "print(categories)\n",
    "print(target)"
   ]
  },
  {
   "cell_type": "code",
   "execution_count": 96,
   "metadata": {},
   "outputs": [
    {
     "name": "stdout",
     "output_type": "stream",
     "text": [
      "50\n"
     ]
    }
   ],
   "source": [
    "test_data = []\n",
    "with open('headlines.txt', 'r+', encoding='utf-8') as f:\n",
    "    lines = f.readlines()\n",
    "    lines = [x.strip() for x in lines]\n",
    "    test_data.extend(lines)\n",
    "print(len(test_data))"
   ]
  },
  {
   "cell_type": "code",
   "execution_count": 97,
   "metadata": {},
   "outputs": [],
   "source": [
    "#test_data = [\"The value of losses from crime in the digital currency sector in 2018 hit $1.7 billion.\", \"15 jawans killed after Naxals trigger IED blast in Maharashtra's Gadchiroli.\",  \"iPhone XS specs vs. XS Max, XR, X: What's the same and different\", \"2 People Injured In Indiana School Shooting\", \"Twitter Bots May Have Delivered Donald Trump's Victory, Research Paper Says\", \"60 Seconds of Social Media\", \"My Son Only Read One Book in Middle School\"]\n",
    "#test_data = [\"Most developers should be familiar with Google's cross-platform, portable UI framework Flutter, which can make developing apps for both Android and iOS a whole lot easier. In fact, it just recently hit 1.0 late last year. Today, at the company's I/O developer\"]\n",
    "test_data=[\"How the battle against measles varies around the world\", \"Shy fish no bigger than a pinkie provide much of the food in coral reefs\", \"BJP wants to piggyback on YSRCP to south, but Jagan may find it hard to help without special status for Andhra\", \"FDA Approves New Treatment for Diabetic Condition That Can Lead to Blindness\",\"Welspun in talks to own slum rehabilitation projects, loaned by Dewan Housing Finance Ltd\",\"PM Narendra Modi to host Chinese President Xi for an informal summit\",\"Brain Changes May Occur 30 Years Before Alzheimer’s Symptoms Appear\",\"TCS recognised among top 50 companies in US for diversity\",\" Facebook may launch its own cryptocurrency by 2020: Report\",\"Celebrating the versatile Pankaj Kapur's birthday with his memorable roles\",\"Surprise Kiwi selection Tom Blundell on brink of ODI debut in World Cup\"]\n",
    "x_test_tf = count_vect.transform(test_data)\n",
    "x_test_tfidf = tfidf_transformer.transform(x_test_tf)\n",
    "predicted = clf.predict(x_test_tfidf)"
   ]
  },
  {
   "cell_type": "code",
   "execution_count": 107,
   "metadata": {},
   "outputs": [
    {
     "name": "stdout",
     "output_type": "stream",
     "text": [
      "[5 6 6 5 1 3 6 6 6 1 5]\n"
     ]
    }
   ],
   "source": [
    "print(predicted)"
   ]
  },
  {
   "cell_type": "code",
   "execution_count": 108,
   "metadata": {},
   "outputs": [
    {
     "name": "stdout",
     "output_type": "stream",
     "text": [
      "11\n",
      "['sports', 'technology', 'technology', 'sports', 'entertainment', 'politics', 'technology', 'technology', 'technology', 'entertainment', 'sports']\n"
     ]
    }
   ],
   "source": [
    "#Testing the code\n",
    "#Decoding from numeral to category\n",
    "\n",
    "test_cat_list = []\n",
    "for x in predicted:\n",
    "    if x == 0:\n",
    "        test_cat_list.append('business')\n",
    "    #elif x == 1:\n",
    "    #    test_cat_list.append('general')\n",
    "    elif x == 1:\n",
    "        test_cat_list.append('entertainment')\n",
    "    elif x == 2:\n",
    "        test_cat_list.append('health')\n",
    "    elif x == 3:\n",
    "        test_cat_list.append('politics')\n",
    "    elif x == 4:\n",
    "        test_cat_list.append('science')\n",
    "    elif x == 5:\n",
    "        test_cat_list.append('sports')\n",
    "    elif x == 6:\n",
    "        test_cat_list.append('technology')\n",
    "print(len(test_cat_list))\n",
    "print(test_cat_list)"
   ]
  },
  {
   "cell_type": "code",
   "execution_count": 109,
   "metadata": {},
   "outputs": [],
   "source": [
    "#import pandas as pd\n",
    "#d = {'Headlines':test_data, 'Category':test_cat_list}\n",
    "#print(d)\n",
    "#dfd = pd.DataFrame(d)\n",
    "#print(dfd)"
   ]
  },
  {
   "cell_type": "code",
   "execution_count": 110,
   "metadata": {},
   "outputs": [],
   "source": [
    "#Direct Method \n",
    "\n",
    "import sklearn.datasets as skd\n",
    "from sklearn.pipeline import Pipeline\n",
    "from sklearn.feature_extraction.text import TfidfVectorizer\n",
    "from sklearn.naive_bayes import MultinomialNB"
   ]
  },
  {
   "cell_type": "code",
   "execution_count": 111,
   "metadata": {},
   "outputs": [],
   "source": [
    "text_clf = Pipeline([('vect', TfidfVectorizer()), \n",
    "                      ('clf', MultinomialNB()) ])\n"
   ]
  },
  {
   "cell_type": "code",
   "execution_count": 112,
   "metadata": {},
   "outputs": [],
   "source": [
    "text_clf.fit(data_list, target)\n",
    "predicted = text_clf.predict(test_data)\n",
    "pred_prob = text_clf.predict_proba(test_data)"
   ]
  },
  {
   "cell_type": "code",
   "execution_count": 113,
   "metadata": {},
   "outputs": [],
   "source": [
    "from sklearn import metrics\n",
    "from sklearn.metrics import accuracy_score\n",
    "import numpy as np"
   ]
  },
  {
   "cell_type": "code",
   "execution_count": 103,
   "metadata": {},
   "outputs": [
    {
     "data": {
      "text/plain": [
       "array([[0.0056463 , 0.24939737, 0.0055678 , 0.17044886, 0.00822072,\n",
       "        0.32684546, 0.23387349],\n",
       "       [0.01456036, 0.2310181 , 0.01258588, 0.19336335, 0.0178502 ,\n",
       "        0.21338793, 0.31723418],\n",
       "       [0.00284657, 0.27862263, 0.00318252, 0.16598611, 0.00373536,\n",
       "        0.23329859, 0.31232822],\n",
       "       [0.00684372, 0.25665514, 0.01033504, 0.16864925, 0.00880745,\n",
       "        0.28490025, 0.26380914],\n",
       "       [0.02175773, 0.27149399, 0.01026727, 0.19201423, 0.01347571,\n",
       "        0.25204618, 0.23894489],\n",
       "       [0.01249396, 0.19996398, 0.0101624 , 0.27529384, 0.01167063,\n",
       "        0.22453987, 0.26587531],\n",
       "       [0.0193815 , 0.2090865 , 0.0215363 , 0.19047915, 0.01718633,\n",
       "        0.18739639, 0.35493383],\n",
       "       [0.0340005 , 0.19978483, 0.01357732, 0.2191589 , 0.0157832 ,\n",
       "        0.23051719, 0.28717808],\n",
       "       [0.00830041, 0.10475699, 0.00535937, 0.11926939, 0.00652749,\n",
       "        0.11869505, 0.6370913 ],\n",
       "       [0.01392819, 0.52072913, 0.01212455, 0.09649514, 0.01587774,\n",
       "        0.22035355, 0.12049168],\n",
       "       [0.00771403, 0.18227445, 0.00668113, 0.07991491, 0.00884812,\n",
       "        0.5858676 , 0.12869975]])"
      ]
     },
     "execution_count": 103,
     "metadata": {},
     "output_type": "execute_result"
    }
   ],
   "source": [
    "#predicted\n",
    "pred_prob "
   ]
  },
  {
   "cell_type": "code",
   "execution_count": 104,
   "metadata": {},
   "outputs": [
    {
     "name": "stdout",
     "output_type": "stream",
     "text": [
      "11\n"
     ]
    }
   ],
   "source": [
    "#print(type(pred_prob))\n",
    "#print(len (pred_prob))\n",
    "#print (pred_prob[0])\n",
    "#print(np.amax(pred_prob[0]))\n",
    "prob_list =[]\n",
    "for i in range(len(pred_prob)):\n",
    "    prob_list.append(np.amax(pred_prob[i]))\n",
    "print (len(prob_list))"
   ]
  },
  {
   "cell_type": "code",
   "execution_count": 105,
   "metadata": {
    "scrolled": false
   },
   "outputs": [
    {
     "name": "stdout",
     "output_type": "stream",
     "text": [
      "<class 'pandas.core.frame.DataFrame'>\n"
     ]
    }
   ],
   "source": [
    "d = {'Headlines':test_data, 'Category':test_cat_list, 'Probability':prob_list}\n",
    "#print(d)\n",
    "dfd = pd.DataFrame(d)\n",
    "print(type(dfd))"
   ]
  },
  {
   "cell_type": "code",
   "execution_count": 106,
   "metadata": {},
   "outputs": [
    {
     "name": "stdout",
     "output_type": "stream",
     "text": [
      "<class 'pandas.core.frame.DataFrame'>\n"
     ]
    }
   ],
   "source": [
    "#fp = open('analysis.txt', 'w')\n",
    "#fp.write(dfd)\n",
    "#fp.close()\n",
    "#np.savetxt(r'./analysis.txt', dfd.values, fmt='%s')\n",
    "ds = dfd.applymap(str)\n",
    "print(type(ds))\n",
    "ds.to_csv('analysis.csv')\n",
    "np.savetxt(r'./analysis.txt', ds.values, fmt='%s',encoding=\"utf-8\",header=\"Headlines\\tCategories\\tProbability\")"
   ]
  },
  {
   "cell_type": "code",
   "execution_count": null,
   "metadata": {},
   "outputs": [],
   "source": []
  }
 ],
 "metadata": {
  "kernelspec": {
   "display_name": "Python 3",
   "language": "python",
   "name": "python3"
  },
  "language_info": {
   "codemirror_mode": {
    "name": "ipython",
    "version": 3
   },
   "file_extension": ".py",
   "mimetype": "text/x-python",
   "name": "python",
   "nbconvert_exporter": "python",
   "pygments_lexer": "ipython3",
   "version": "3.5.2"
  }
 },
 "nbformat": 4,
 "nbformat_minor": 2
}
