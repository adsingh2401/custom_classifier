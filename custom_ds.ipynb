{
 "cells": [
  {
   "cell_type": "code",
   "execution_count": 1,
   "metadata": {},
   "outputs": [
    {
     "data": {
      "text/plain": [
       "list"
      ]
     },
     "execution_count": 1,
     "metadata": {},
     "output_type": "execute_result"
    }
   ],
   "source": [
    "categories = [\"entertainment\", \"sports\", \"technology\", \"politics\",\"health\", \"business\", \"science\"]\n",
    "#categories = [\"entertainment\", \"sports\", \"technology\", \"politics\"]\n",
    "type(categories)"
   ]
  },
  {
   "cell_type": "code",
   "execution_count": 2,
   "metadata": {},
   "outputs": [
    {
     "name": "stdout",
     "output_type": "stream",
     "text": [
      "entertainment 869\n",
      "sports 834\n",
      "technology 878\n",
      "politics 706\n",
      "health 810\n",
      "business 911\n",
      "science 758\n"
     ]
    }
   ],
   "source": [
    "cat_list = []\n",
    "data_list = []\n",
    "for cat in categories:\n",
    "    #print(cat)\n",
    "    with open('{}.txt'.format(cat), encoding='utf-8') as f:\n",
    "    #lines = [line.rstrip('\\n') for line in open('{}.txt'.format(cat))]\n",
    "        lines=f.readlines()\n",
    "        print(cat + \" \" + str(len(lines)))\n",
    "        lines = [x.strip() for x in lines]\n",
    "        data_list.extend(lines)\n",
    "        le = len(lines)\n",
    "        for r in range(le):\n",
    "            cat_list.append(cat)"
   ]
  },
  {
   "cell_type": "code",
   "execution_count": 3,
   "metadata": {},
   "outputs": [
    {
     "name": "stdout",
     "output_type": "stream",
     "text": [
      "5766\n",
      "5766\n"
     ]
    }
   ],
   "source": [
    "print(len(data_list))\n",
    "#print(data_list)\n",
    "print(len(cat_list))\n",
    "#print(cat_list)"
   ]
  },
  {
   "cell_type": "code",
   "execution_count": 4,
   "metadata": {},
   "outputs": [
    {
     "name": "stdout",
     "output_type": "stream",
     "text": [
      "5766\n",
      "[1 1 1 ... 4 4 4]\n"
     ]
    }
   ],
   "source": [
    "from sklearn import preprocessing\n",
    "le = preprocessing.LabelEncoder()\n",
    "target = le.fit_transform(cat_list)\n",
    "print(len(target))\n",
    "print(target)"
   ]
  },
  {
   "cell_type": "code",
   "execution_count": 5,
   "metadata": {
    "scrolled": true
   },
   "outputs": [
    {
     "name": "stdout",
     "output_type": "stream",
     "text": [
      "Headlines    Woman Who Tried to Enter Sabarimala Temple Arr...\n",
      "Category                                              politics\n",
      "Target                                                       3\n",
      "Name: 2600, dtype: object\n"
     ]
    }
   ],
   "source": [
    "#TESTING\n",
    "\n",
    "import pandas as pd\n",
    "d = {'Headlines':data_list, 'Category':cat_list, 'Target': target}\n",
    "#print(d)\n",
    "df = pd.DataFrame(d)\n",
    "print(df.iloc[2600])"
   ]
  },
  {
   "cell_type": "code",
   "execution_count": 6,
   "metadata": {},
   "outputs": [
    {
     "name": "stdout",
     "output_type": "stream",
     "text": [
      "<class 'list'>\n",
      "(5766, 16324)\n",
      "[[0 0 0 ... 0 0 0]\n",
      " [0 0 0 ... 0 0 0]\n",
      " [0 0 0 ... 0 0 0]\n",
      " ...\n",
      " [0 0 0 ... 0 0 0]\n",
      " [0 1 0 ... 0 0 0]\n",
      " [0 0 0 ... 0 0 0]]\n"
     ]
    }
   ],
   "source": [
    "from sklearn.feature_extraction.text import CountVectorizer\n",
    "count_vect = CountVectorizer()\n",
    "x_train_tf = count_vect.fit_transform(data_list)\n",
    "print(type(data_list))\n",
    "print(x_train_tf.shape)\n",
    "print(x_train_tf.toarray())"
   ]
  },
  {
   "cell_type": "code",
   "execution_count": 7,
   "metadata": {},
   "outputs": [
    {
     "data": {
      "text/plain": [
       "(3964, 13832)"
      ]
     },
     "execution_count": 7,
     "metadata": {},
     "output_type": "execute_result"
    }
   ],
   "source": [
    "from sklearn.feature_extraction.text import TfidfTransformer\n",
    "tfidf_transformer = TfidfTransformer()\n",
    "x_train_tfidf = tfidf_transformer.fit_transform(x_train_tf)\n",
    "x_train_tfidf.shape"
   ]
  },
  {
   "cell_type": "code",
   "execution_count": 8,
   "metadata": {},
   "outputs": [],
   "source": [
    "from sklearn.naive_bayes import MultinomialNB\n",
    "clf = MultinomialNB().fit(x_train_tfidf, target)"
   ]
  },
  {
   "cell_type": "code",
   "execution_count": 9,
   "metadata": {},
   "outputs": [
    {
     "name": "stdout",
     "output_type": "stream",
     "text": [
      "['entertainment', 'sports', 'technology', 'politics', 'health', 'business', 'science']\n",
      "[1 1 1 ... 4 4 4]\n"
     ]
    }
   ],
   "source": [
    "print(categories)\n",
    "print(target)"
   ]
  },
  {
   "cell_type": "code",
   "execution_count": 10,
   "metadata": {},
   "outputs": [
    {
     "name": "stdout",
     "output_type": "stream",
     "text": [
      "50\n"
     ]
    }
   ],
   "source": [
    "test_data = []\n",
    "with open('headlines.txt', 'r+', encoding='utf-8') as f:\n",
    "    lines = f.readlines()\n",
    "    lines = [x.strip() for x in lines]\n",
    "    test_data.extend(lines)\n",
    "print(len(test_data))"
   ]
  },
  {
   "cell_type": "code",
   "execution_count": 11,
   "metadata": {},
   "outputs": [],
   "source": [
    "#test_data = [\"The value of losses from crime in the digital currency sector in 2018 hit $1.7 billion.\", \"15 jawans killed after Naxals trigger IED blast in Maharashtra's Gadchiroli.\",  \"iPhone XS specs vs. XS Max, XR, X: What's the same and different\", \"2 People Injured In Indiana School Shooting\", \"Twitter Bots May Have Delivered Donald Trump's Victory, Research Paper Says\", \"60 Seconds of Social Media\", \"My Son Only Read One Book in Middle School\"]\n",
    "#test_data = [\"Most developers should be familiar with Google's cross-platform, portable UI framework Flutter, which can make developing apps for both Android and iOS a whole lot easier. In fact, it just recently hit 1.0 late last year. Today, at the company's I/O developer\"]\n",
    "#test_data=[\"How the battle against measles varies around the world\", \"Shy fish no bigger than a pinkie provide much of the food in coral reefs\", \"BJP wants to piggyback on YSRCP to south, but Jagan may find it hard to help without special status for Andhra\", \"FDA Approves New Treatment for Diabetic Condition That Can Lead to Blindness\",\"Welspun in talks to own slum rehabilitation projects, loaned by Dewan Housing Finance Ltd\",\"PM Narendra Modi to host Chinese President Xi for an informal summit\",\"Brain Changes May Occur 30 Years Before Alzheimer’s Symptoms Appear\",\"TCS recognised among top 50 companies in US for diversity\",\" Facebook may launch its own cryptocurrency by 2020: Report\",\"Celebrating the versatile Pankaj Kapur's birthday with his memorable roles\",\"Surprise Kiwi selection Tom Blundell on brink of ODI debut in World Cup\"]\n",
    "x_test_tf = count_vect.transform(test_data)\n",
    "x_test_tfidf = tfidf_transformer.transform(x_test_tf)\n",
    "predicted = clf.predict(x_test_tfidf)"
   ]
  },
  {
   "cell_type": "code",
   "execution_count": 12,
   "metadata": {},
   "outputs": [
    {
     "name": "stdout",
     "output_type": "stream",
     "text": [
      "[5 6 0 3 6 6 3 1 3 5 3 5 3 3 3 0 5 1 2 5 5 5 1 2 0 5 1 3 3 3 5 5 5 1 0 1 3\n",
      " 5 0 5 1 0 1 5 0 6 3 3 1 3]\n"
     ]
    }
   ],
   "source": [
    "print(predicted)"
   ]
  },
  {
   "cell_type": "code",
   "execution_count": 13,
   "metadata": {},
   "outputs": [
    {
     "name": "stdout",
     "output_type": "stream",
     "text": [
      "50\n",
      "['sports', 'technology', 'business', 'politics', 'technology', 'technology', 'politics', 'entertainment', 'politics', 'sports', 'politics', 'sports', 'politics', 'politics', 'politics', 'business', 'sports', 'entertainment', 'health', 'sports', 'sports', 'sports', 'entertainment', 'health', 'business', 'sports', 'entertainment', 'politics', 'politics', 'politics', 'sports', 'sports', 'sports', 'entertainment', 'business', 'entertainment', 'politics', 'sports', 'business', 'sports', 'entertainment', 'business', 'entertainment', 'sports', 'business', 'technology', 'politics', 'politics', 'entertainment', 'politics']\n"
     ]
    }
   ],
   "source": [
    "#Testing the code\n",
    "#Decoding from numeral to category\n",
    "\n",
    "test_cat_list = []\n",
    "for x in predicted:\n",
    "    if x == 0:\n",
    "        test_cat_list.append('business')\n",
    "    #elif x == 1:\n",
    "    #    test_cat_list.append('general')\n",
    "    elif x == 1:\n",
    "        test_cat_list.append('entertainment')\n",
    "    elif x == 5:\n",
    "        test_cat_list.append('sports')\n",
    "    elif x == 3:\n",
    "        test_cat_list.append('politics')\n",
    "    elif x == 4:\n",
    "        test_cat_list.append('science')\n",
    "    elif x == 2:\n",
    "        test_cat_list.append('health')\n",
    "    elif x == 6:\n",
    "        test_cat_list.append('technology')\n",
    "print(len(test_cat_list))\n",
    "print(test_cat_list)"
   ]
  },
  {
   "cell_type": "code",
   "execution_count": 14,
   "metadata": {},
   "outputs": [],
   "source": [
    "#import pandas as pd\n",
    "#d = {'Headlines':test_data, 'Category':test_cat_list}\n",
    "#print(d)\n",
    "#dfd = pd.DataFrame(d)\n",
    "#print(dfd)"
   ]
  },
  {
   "cell_type": "code",
   "execution_count": 15,
   "metadata": {},
   "outputs": [],
   "source": [
    "#Direct Method \n",
    "\n",
    "import sklearn.datasets as skd\n",
    "from sklearn.pipeline import Pipeline\n",
    "from sklearn.feature_extraction.text import TfidfVectorizer\n",
    "from sklearn.naive_bayes import MultinomialNB"
   ]
  },
  {
   "cell_type": "code",
   "execution_count": 16,
   "metadata": {},
   "outputs": [],
   "source": [
    "text_clf = Pipeline([('vect', TfidfVectorizer()), \n",
    "                      ('clf', MultinomialNB()) ])\n"
   ]
  },
  {
   "cell_type": "code",
   "execution_count": 23,
   "metadata": {},
   "outputs": [
    {
     "name": "stdout",
     "output_type": "stream",
     "text": [
      "[5 6 0 3 6 6 3 1 3 5 3 5 3 3 3 0 5 1 2 5 5 5 1 2 0 5 1 3 3 3 5 5 5 1 0 1 3\n",
      " 5 0 5 1 0 1 5 0 6 3 3 1 3]\n"
     ]
    }
   ],
   "source": [
    "text_clf.fit(data_list, target)\n",
    "predicted = text_clf.predict(test_data)\n",
    "pred_prob = text_clf.predict_proba(test_data)\n",
    "print(predicted)"
   ]
  },
  {
   "cell_type": "code",
   "execution_count": 18,
   "metadata": {},
   "outputs": [],
   "source": [
    "from sklearn import metrics\n",
    "from sklearn.metrics import accuracy_score\n",
    "import numpy as np"
   ]
  },
  {
   "cell_type": "code",
   "execution_count": 19,
   "metadata": {},
   "outputs": [
    {
     "data": {
      "text/plain": [
       "array([[0.10285985, 0.15604015, 0.11583643, 0.16191524, 0.12298303,\n",
       "        0.19602822, 0.14433707],\n",
       "       [0.16994657, 0.19954164, 0.13167149, 0.05898149, 0.04055851,\n",
       "        0.13564194, 0.26365835],\n",
       "       [0.2955954 , 0.08594875, 0.09066659, 0.12570326, 0.07049591,\n",
       "        0.17423829, 0.15735179],\n",
       "       [0.13829183, 0.11572999, 0.10248567, 0.32965082, 0.06091443,\n",
       "        0.11756466, 0.1353626 ],\n",
       "       [0.14429732, 0.08628915, 0.09360019, 0.13046534, 0.07833451,\n",
       "        0.09689562, 0.37011787],\n",
       "       [0.07212397, 0.06889442, 0.03739518, 0.03873269, 0.02916246,\n",
       "        0.08336411, 0.67032717],\n",
       "       [0.07076171, 0.16918748, 0.05591729, 0.4602531 , 0.05323573,\n",
       "        0.12512028, 0.06552442],\n",
       "       [0.07880476, 0.40502603, 0.06295981, 0.11610734, 0.06846419,\n",
       "        0.19271946, 0.07591841],\n",
       "       [0.16794899, 0.09528458, 0.11782612, 0.22040921, 0.10386299,\n",
       "        0.17218377, 0.12248434],\n",
       "       [0.12755498, 0.1247267 , 0.1001964 , 0.11710604, 0.06747837,\n",
       "        0.37678839, 0.08614914],\n",
       "       [0.0994051 , 0.20670044, 0.07036736, 0.28751042, 0.06468827,\n",
       "        0.14686863, 0.12445977],\n",
       "       [0.08864385, 0.19150934, 0.09229588, 0.21645842, 0.06820648,\n",
       "        0.2509537 , 0.09193234],\n",
       "       [0.03843976, 0.05792424, 0.03979985, 0.74569055, 0.02634422,\n",
       "        0.05147022, 0.04033116],\n",
       "       [0.08568121, 0.21391809, 0.09588471, 0.36426012, 0.04659718,\n",
       "        0.10655893, 0.08709976],\n",
       "       [0.09849785, 0.11496877, 0.12617235, 0.28834577, 0.10756086,\n",
       "        0.13523012, 0.12922429],\n",
       "       [0.33266231, 0.09454289, 0.10768934, 0.07972522, 0.12967697,\n",
       "        0.13748067, 0.1182226 ],\n",
       "       [0.18466747, 0.11933424, 0.08929775, 0.20044697, 0.07052825,\n",
       "        0.21158179, 0.12414353],\n",
       "       [0.08619211, 0.3821482 , 0.05805027, 0.21692241, 0.04356542,\n",
       "        0.13462391, 0.07849768],\n",
       "       [0.11632395, 0.13965074, 0.22062426, 0.12100463, 0.10620466,\n",
       "        0.14814623, 0.14804554],\n",
       "       [0.10101404, 0.18977009, 0.06563984, 0.1301381 , 0.04911538,\n",
       "        0.39222023, 0.07210231],\n",
       "       [0.13590619, 0.15169869, 0.0896621 , 0.11937341, 0.11490614,\n",
       "        0.30040443, 0.08804904],\n",
       "       [0.09615074, 0.14091526, 0.09722405, 0.09772225, 0.05513958,\n",
       "        0.38608546, 0.12676266],\n",
       "       [0.08901093, 0.47619864, 0.07067866, 0.11738998, 0.0687507 ,\n",
       "        0.08568279, 0.09228829],\n",
       "       [0.09840694, 0.15696749, 0.22384307, 0.11258059, 0.20050578,\n",
       "        0.0904297 , 0.11726643],\n",
       "       [0.25684503, 0.14799889, 0.08402937, 0.194132  , 0.0896896 ,\n",
       "        0.12774232, 0.09956279],\n",
       "       [0.12703981, 0.16418442, 0.15001511, 0.16058053, 0.1322472 ,\n",
       "        0.17233959, 0.09359334],\n",
       "       [0.13670006, 0.21360887, 0.152364  , 0.1156704 , 0.0707379 ,\n",
       "        0.21081954, 0.10009923],\n",
       "       [0.10651884, 0.1294568 , 0.14612465, 0.28660044, 0.08926788,\n",
       "        0.1651553 , 0.0768761 ],\n",
       "       [0.07805499, 0.20257456, 0.06080947, 0.37254019, 0.06079041,\n",
       "        0.13931535, 0.08591503],\n",
       "       [0.12993933, 0.17948997, 0.07162798, 0.25404869, 0.05704446,\n",
       "        0.15917392, 0.14867566],\n",
       "       [0.12417144, 0.21452146, 0.1026947 , 0.1822091 , 0.06600936,\n",
       "        0.22413135, 0.0862626 ],\n",
       "       [0.10660537, 0.1492263 , 0.06036085, 0.10543067, 0.05179382,\n",
       "        0.42270512, 0.10387787],\n",
       "       [0.12421053, 0.21030689, 0.08969051, 0.11816665, 0.08004901,\n",
       "        0.24005243, 0.13752398],\n",
       "       [0.11964915, 0.39395492, 0.07518682, 0.10173159, 0.08135865,\n",
       "        0.10438669, 0.12373217],\n",
       "       [0.16105299, 0.14359989, 0.12115446, 0.15404539, 0.15945858,\n",
       "        0.13635454, 0.12433414],\n",
       "       [0.08882111, 0.477519  , 0.07043308, 0.11722694, 0.06853361,\n",
       "        0.08542117, 0.0920451 ],\n",
       "       [0.13971371, 0.1470602 , 0.16517171, 0.17484909, 0.10757406,\n",
       "        0.13887167, 0.12675955],\n",
       "       [0.12346286, 0.15917582, 0.11960689, 0.10056582, 0.10436455,\n",
       "        0.22672329, 0.16610077],\n",
       "       [0.32193699, 0.08904876, 0.05729087, 0.09040913, 0.05601688,\n",
       "        0.09662096, 0.28867642],\n",
       "       [0.09016902, 0.2330858 , 0.06211162, 0.24347075, 0.04981784,\n",
       "        0.25303411, 0.06831086],\n",
       "       [0.10169238, 0.39634151, 0.08122715, 0.13383212, 0.08312562,\n",
       "        0.09818728, 0.10559394],\n",
       "       [0.25012216, 0.12893603, 0.08479366, 0.16969322, 0.08146876,\n",
       "        0.14314469, 0.14184149],\n",
       "       [0.11475879, 0.22400655, 0.10281801, 0.15766472, 0.11082283,\n",
       "        0.13024308, 0.15968603],\n",
       "       [0.11587524, 0.19034898, 0.09382123, 0.16548158, 0.07352241,\n",
       "        0.21667467, 0.14427589],\n",
       "       [0.23304122, 0.12336459, 0.17091925, 0.13150256, 0.08135745,\n",
       "        0.17196696, 0.08784797],\n",
       "       [0.23328833, 0.10618519, 0.08933681, 0.14523326, 0.06234026,\n",
       "        0.10818898, 0.25542718],\n",
       "       [0.09946385, 0.14189089, 0.0834853 , 0.35455637, 0.06159277,\n",
       "        0.15312093, 0.10588989],\n",
       "       [0.10565275, 0.19307624, 0.06931898, 0.29416336, 0.05557052,\n",
       "        0.20073248, 0.08148568],\n",
       "       [0.0600768 , 0.52134742, 0.05381774, 0.1008074 , 0.04993217,\n",
       "        0.12025291, 0.09376557],\n",
       "       [0.12368191, 0.11946264, 0.07994894, 0.32836642, 0.06017312,\n",
       "        0.17019289, 0.11817408]])"
      ]
     },
     "execution_count": 19,
     "metadata": {},
     "output_type": "execute_result"
    }
   ],
   "source": [
    "#predicted\n",
    "pred_prob "
   ]
  },
  {
   "cell_type": "code",
   "execution_count": 20,
   "metadata": {},
   "outputs": [
    {
     "name": "stdout",
     "output_type": "stream",
     "text": [
      "50\n"
     ]
    }
   ],
   "source": [
    "#print(type(pred_prob))\n",
    "#print(len (pred_prob))\n",
    "#print (pred_prob[0])\n",
    "#print(np.amax(pred_prob[0]))\n",
    "prob_list =[]\n",
    "for i in range(len(pred_prob)):\n",
    "    prob_list.append(np.amax(pred_prob[i]))\n",
    "print (len(prob_list))"
   ]
  },
  {
   "cell_type": "code",
   "execution_count": 21,
   "metadata": {
    "scrolled": false
   },
   "outputs": [
    {
     "name": "stdout",
     "output_type": "stream",
     "text": [
      "<class 'pandas.core.frame.DataFrame'>\n"
     ]
    }
   ],
   "source": [
    "d = {'Headlines':test_data, 'Category':test_cat_list, 'Probability':prob_list}\n",
    "#print(d)\n",
    "dfd = pd.DataFrame(d)\n",
    "print(type(dfd))"
   ]
  },
  {
   "cell_type": "code",
   "execution_count": 22,
   "metadata": {},
   "outputs": [
    {
     "name": "stdout",
     "output_type": "stream",
     "text": [
      "<class 'pandas.core.frame.DataFrame'>\n"
     ]
    }
   ],
   "source": [
    "#fp = open('analysis.txt', 'w')\n",
    "#fp.write(dfd)\n",
    "#fp.close()\n",
    "#np.savetxt(r'./analysis.txt', dfd.values, fmt='%s')\n",
    "ds = dfd.applymap(str)\n",
    "print(type(ds))\n",
    "ds.to_csv('/mnt/h/workSpace/news-project/analysis.csv')\n",
    "np.savetxt(r'./analysis.txt', ds.values, fmt='%s',encoding=\"utf-8\",header=\"Headlines\\tCategories\\tProbability\")"
   ]
  },
  {
   "cell_type": "code",
   "execution_count": null,
   "metadata": {},
   "outputs": [],
   "source": []
  }
 ],
 "metadata": {
  "kernelspec": {
   "display_name": "Python 3",
   "language": "python",
   "name": "python3"
  },
  "language_info": {
   "codemirror_mode": {
    "name": "ipython",
    "version": 3
   },
   "file_extension": ".py",
   "mimetype": "text/x-python",
   "name": "python",
   "nbconvert_exporter": "python",
   "pygments_lexer": "ipython3",
   "version": "3.6.7"
  }
 },
 "nbformat": 4,
 "nbformat_minor": 2
}
