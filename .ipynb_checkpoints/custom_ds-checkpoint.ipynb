{
 "cells": [
  {
   "cell_type": "code",
   "execution_count": 37,
   "metadata": {},
   "outputs": [
    {
     "data": {
      "text/plain": [
       "list"
      ]
     },
     "execution_count": 37,
     "metadata": {},
     "output_type": "execute_result"
    }
   ],
   "source": [
    "categories = [\"entertainment\", \"sports\", \"technology\", \"politics\",\"health\", \"business\", \"science\"]\n",
    "type(categories)"
   ]
  },
  {
   "cell_type": "code",
   "execution_count": 38,
   "metadata": {},
   "outputs": [
    {
     "name": "stdout",
     "output_type": "stream",
     "text": [
      "entertainment\n",
      "sports\n",
      "technology\n",
      "politics\n",
      "health\n",
      "business\n",
      "science\n"
     ]
    }
   ],
   "source": [
    "cat_list = []\n",
    "data_list = []\n",
    "for cat in categories:\n",
    "    print(cat)\n",
    "    with open('{}.txt'.format(cat)) as f:\n",
    "    #lines = [line.rstrip('\\n') for line in open('{}.txt'.format(cat))]\n",
    "        lines=f.readlines()\n",
    "        lines = [x.strip() for x in lines]\n",
    "        data_list.extend(lines)\n",
    "        le = len(lines)\n",
    "        for r in range(le):\n",
    "            cat_list.append(cat)"
   ]
  },
  {
   "cell_type": "code",
   "execution_count": 39,
   "metadata": {},
   "outputs": [
    {
     "name": "stdout",
     "output_type": "stream",
     "text": [
      "3462\n",
      "3462\n"
     ]
    }
   ],
   "source": [
    "print(len(data_list))\n",
    "#print(data_list)\n",
    "print(len(cat_list))\n",
    "#print(cat_list)"
   ]
  },
  {
   "cell_type": "code",
   "execution_count": 40,
   "metadata": {},
   "outputs": [
    {
     "name": "stdout",
     "output_type": "stream",
     "text": [
      "3462\n",
      "[1 1 1 ... 4 4 4]\n"
     ]
    }
   ],
   "source": [
    "from sklearn import preprocessing\n",
    "le = preprocessing.LabelEncoder()\n",
    "target = le.fit_transform(cat_list)\n",
    "print(len(target))\n",
    "print(target)"
   ]
  },
  {
   "cell_type": "code",
   "execution_count": 55,
   "metadata": {},
   "outputs": [
    {
     "name": "stdout",
     "output_type": "stream",
     "text": [
      "Category                                              politics\n",
      "Headlines    Sabarimala: Can Respect and Reform Go Hand in ...\n",
      "Target                                                       3\n",
      "Name: 1900, dtype: object\n"
     ]
    }
   ],
   "source": [
    "#TESTING\n",
    "\n",
    "import pandas as pd\n",
    "d = {'Headlines':data_list, 'Category':cat_list, 'Target': target}\n",
    "#print(d)\n",
    "df = pd.DataFrame(d)\n",
    "print(df.iloc[1900])"
   ]
  },
  {
   "cell_type": "code",
   "execution_count": 42,
   "metadata": {},
   "outputs": [
    {
     "name": "stdout",
     "output_type": "stream",
     "text": [
      "<class 'list'>\n",
      "(3462, 11349)\n",
      "[[0 0 0 ... 0 0 0]\n",
      " [0 0 0 ... 0 0 0]\n",
      " [0 0 0 ... 0 0 0]\n",
      " ...\n",
      " [0 0 0 ... 0 0 0]\n",
      " [0 0 0 ... 0 0 0]\n",
      " [0 0 0 ... 0 0 0]]\n"
     ]
    }
   ],
   "source": [
    "from sklearn.feature_extraction.text import CountVectorizer\n",
    "count_vect = CountVectorizer()\n",
    "x_train_tf = count_vect.fit_transform(data_list)\n",
    "print(type(data_list))\n",
    "print(x_train_tf.shape)\n",
    "print(x_train_tf.toarray())"
   ]
  },
  {
   "cell_type": "code",
   "execution_count": 43,
   "metadata": {},
   "outputs": [
    {
     "data": {
      "text/plain": [
       "(3462, 11349)"
      ]
     },
     "execution_count": 43,
     "metadata": {},
     "output_type": "execute_result"
    }
   ],
   "source": [
    "from sklearn.feature_extraction.text import TfidfTransformer\n",
    "tfidf_transformer = TfidfTransformer()\n",
    "x_train_tfidf = tfidf_transformer.fit_transform(x_train_tf)\n",
    "x_train_tfidf.shape"
   ]
  },
  {
   "cell_type": "code",
   "execution_count": 44,
   "metadata": {},
   "outputs": [],
   "source": [
    "from sklearn.naive_bayes import MultinomialNB\n",
    "clf = MultinomialNB().fit(x_train_tfidf, target)"
   ]
  },
  {
   "cell_type": "code",
   "execution_count": 45,
   "metadata": {},
   "outputs": [
    {
     "name": "stdout",
     "output_type": "stream",
     "text": [
      "['entertainment', 'sports', 'technology', 'politics', 'health', 'business', 'science']\n",
      "[1 1 1 ... 4 4 4]\n"
     ]
    }
   ],
   "source": [
    "print(categories)\n",
    "print(target)"
   ]
  },
  {
   "cell_type": "code",
   "execution_count": 46,
   "metadata": {},
   "outputs": [
    {
     "name": "stdout",
     "output_type": "stream",
     "text": [
      "50\n"
     ]
    }
   ],
   "source": [
    "test_data = []\n",
    "with open('headlines.txt', 'r+', encoding='utf-8') as f:\n",
    "    lines = f.readlines()\n",
    "    lines = [x.strip() for x in lines]\n",
    "    test_data.extend(lines)\n",
    "print(len(test_data))"
   ]
  },
  {
   "cell_type": "code",
   "execution_count": 47,
   "metadata": {},
   "outputs": [],
   "source": [
    "#test_data = [\"The value of losses from crime in the digital currency sector in 2018 hit $1.7 billion.\", \"15 jawans killed after Naxals trigger IED blast in Maharashtra's Gadchiroli.\",  \"iPhone XS specs vs. XS Max, XR, X: What's the same and different\", \"2 People Injured In Indiana School Shooting\", \"Twitter Bots May Have Delivered Donald Trump's Victory, Research Paper Says\", \"60 Seconds of Social Media\", \"My Son Only Read One Book in Middle School\"]\n",
    "#test_data = [\"Most developers should be familiar with Google's cross-platform, portable UI framework Flutter, which can make developing apps for both Android and iOS a whole lot easier. In fact, it just recently hit 1.0 late last year. Today, at the company's I/O developer\"]\n",
    "\n",
    "x_test_tf = count_vect.transform(test_data)\n",
    "x_test_tfidf = tfidf_transformer.transform(x_test_tf)\n",
    "predicted = clf.predict(x_test_tfidf)"
   ]
  },
  {
   "cell_type": "code",
   "execution_count": 48,
   "metadata": {},
   "outputs": [
    {
     "name": "stdout",
     "output_type": "stream",
     "text": [
      "[1 3 5 3 3 3 3 3 3 3 3 3 6 3 6 3 3 1 3 1 6 3 3 3 3 5 5 5 5 5 3 3 3 3 3 3 5\n",
      " 3 3 3 3 5 5 3 3 3 3 3 3 3]\n"
     ]
    }
   ],
   "source": [
    "print(predicted)"
   ]
  },
  {
   "cell_type": "code",
   "execution_count": 36,
   "metadata": {},
   "outputs": [
    {
     "name": "stdout",
     "output_type": "stream",
     "text": [
      "50\n",
      "['entertainment', 'politics', 'sports', 'politics', 'politics', 'politics', 'politics', 'politics', 'politics', 'politics', 'politics', 'politics', 'technology', 'politics', 'technology', 'politics', 'politics', 'entertainment', 'politics', 'entertainment', 'technology', 'politics', 'politics', 'politics', 'politics', 'sports', 'sports', 'sports', 'sports', 'sports', 'politics', 'politics', 'politics', 'politics', 'politics', 'politics', 'sports', 'politics', 'politics', 'politics', 'politics', 'sports', 'sports', 'politics', 'politics', 'politics', 'politics', 'politics', 'politics', 'politics']\n"
     ]
    }
   ],
   "source": [
    "#Testing the code\n",
    "#Decoding from numeral to category\n",
    "\n",
    "test_cat_list = []\n",
    "for x in predicted:\n",
    "    if x == 0:\n",
    "        test_cat_list.append('')\n",
    "    #elif x == 1:\n",
    "    #    test_cat_list.append('general')\n",
    "    elif x == 1:\n",
    "        test_cat_list.append('entertainment')\n",
    "    elif x == 2:\n",
    "        test_cat_list.append('')\n",
    "    elif x == 3:\n",
    "        test_cat_list.append('politics')\n",
    "    elif x == 4:\n",
    "        test_cat_list.append('science')\n",
    "    elif x == 5:\n",
    "        test_cat_list.append('sports')\n",
    "    elif x == 6:\n",
    "        test_cat_list.append('technology')\n",
    "print(len(test_cat_list))\n",
    "print(test_cat_list)"
   ]
  },
  {
   "cell_type": "code",
   "execution_count": 14,
   "metadata": {},
   "outputs": [],
   "source": [
    "#import pandas as pd\n",
    "#d = {'Headlines':test_data, 'Category':test_cat_list}\n",
    "#print(d)\n",
    "#dfd = pd.DataFrame(d)\n",
    "#print(dfd)"
   ]
  },
  {
   "cell_type": "code",
   "execution_count": 28,
   "metadata": {},
   "outputs": [],
   "source": [
    "#Direct Method \n",
    "\n",
    "import sklearn.datasets as skd\n",
    "from sklearn.pipeline import Pipeline\n",
    "from sklearn.feature_extraction.text import TfidfVectorizer\n",
    "from sklearn.naive_bayes import MultinomialNB"
   ]
  },
  {
   "cell_type": "code",
   "execution_count": 29,
   "metadata": {},
   "outputs": [],
   "source": [
    "text_clf = Pipeline([('vect', TfidfVectorizer()), \n",
    "                      ('clf', MultinomialNB()) ])\n"
   ]
  },
  {
   "cell_type": "code",
   "execution_count": 30,
   "metadata": {},
   "outputs": [],
   "source": [
    "text_clf.fit(data_list, target)\n",
    "predicted = text_clf.predict(test_data)\n",
    "pred_prob = text_clf.predict_proba(test_data)"
   ]
  },
  {
   "cell_type": "code",
   "execution_count": 31,
   "metadata": {},
   "outputs": [],
   "source": [
    "from sklearn import metrics\n",
    "from sklearn.metrics import accuracy_score\n",
    "import numpy as np"
   ]
  },
  {
   "cell_type": "code",
   "execution_count": 32,
   "metadata": {},
   "outputs": [
    {
     "data": {
      "text/plain": [
       "array([[0.30521101, 0.28972157, 0.15206814, 0.25299928],\n",
       "       [0.01800086, 0.94600145, 0.01971139, 0.0162863 ],\n",
       "       [0.23319707, 0.26099032, 0.31994459, 0.18586803],\n",
       "       [0.06257081, 0.56153984, 0.12572944, 0.25015991],\n",
       "       [0.13492179, 0.57704987, 0.08984376, 0.19818457],\n",
       "       [0.08663968, 0.54188156, 0.25748908, 0.11398969],\n",
       "       [0.07794295, 0.47639346, 0.15260533, 0.29305825],\n",
       "       [0.2698156 , 0.48038127, 0.10603601, 0.14376712],\n",
       "       [0.11146155, 0.66497072, 0.11894744, 0.10462028],\n",
       "       [0.11495533, 0.67451248, 0.15040717, 0.06012502],\n",
       "       [0.20132676, 0.36132109, 0.20789062, 0.22946152],\n",
       "       [0.12235428, 0.66746355, 0.1511917 , 0.05899046],\n",
       "       [0.04930329, 0.40018729, 0.07729885, 0.47321057],\n",
       "       [0.25630386, 0.41111798, 0.25948869, 0.07308947],\n",
       "       [0.06193609, 0.3034571 , 0.11250015, 0.52210667],\n",
       "       [0.29514966, 0.34742352, 0.2646275 , 0.09279933],\n",
       "       [0.1668236 , 0.50401341, 0.12756213, 0.20160086],\n",
       "       [0.43873901, 0.25217227, 0.10313012, 0.20595861],\n",
       "       [0.17216321, 0.34451173, 0.21566348, 0.26766158],\n",
       "       [0.29500601, 0.16566189, 0.26568835, 0.27364375],\n",
       "       [0.06858784, 0.04454307, 0.0545578 , 0.8323113 ],\n",
       "       [0.21405297, 0.35030696, 0.2501169 , 0.18552318],\n",
       "       [0.23366288, 0.34105611, 0.14137195, 0.28390906],\n",
       "       [0.1726803 , 0.42093552, 0.23790257, 0.16848161],\n",
       "       [0.20540655, 0.29490786, 0.2117923 , 0.2878933 ],\n",
       "       [0.02109438, 0.03063564, 0.93843581, 0.00983417],\n",
       "       [0.02484612, 0.12922385, 0.82321737, 0.02271266],\n",
       "       [0.04820355, 0.086844  , 0.82977209, 0.03518035],\n",
       "       [0.0245737 , 0.03608739, 0.92971293, 0.00962598],\n",
       "       [0.02618008, 0.02989495, 0.93297413, 0.01095085],\n",
       "       [0.07646577, 0.50512658, 0.09887618, 0.31953147],\n",
       "       [0.05550247, 0.80240312, 0.08237455, 0.05971985],\n",
       "       [0.14324243, 0.40853073, 0.2595599 , 0.18866693],\n",
       "       [0.14262062, 0.53164832, 0.23849604, 0.08723502],\n",
       "       [0.05678087, 0.7578854 , 0.12339658, 0.06193715],\n",
       "       [0.04588614, 0.80973488, 0.10528622, 0.03909275],\n",
       "       [0.04738628, 0.09502872, 0.80168146, 0.05590355],\n",
       "       [0.10072899, 0.5874359 , 0.20190939, 0.10992572],\n",
       "       [0.12194533, 0.67180773, 0.15035783, 0.0558891 ],\n",
       "       [0.14852112, 0.58071456, 0.18073957, 0.09002476],\n",
       "       [0.14031977, 0.52031748, 0.20545363, 0.13390912],\n",
       "       [0.05961415, 0.19320982, 0.69917088, 0.04800515],\n",
       "       [0.31466167, 0.23390899, 0.35832138, 0.09310796],\n",
       "       [0.127423  , 0.65747389, 0.16711543, 0.04798767],\n",
       "       [0.06838519, 0.5968274 , 0.15878196, 0.17600545],\n",
       "       [0.13062742, 0.48281016, 0.29109254, 0.09546988],\n",
       "       [0.0164017 , 0.92239374, 0.04348641, 0.01771816],\n",
       "       [0.05407205, 0.64195424, 0.15310344, 0.15087027],\n",
       "       [0.06993839, 0.76084465, 0.1214051 , 0.04781186],\n",
       "       [0.02957477, 0.8881782 , 0.05396137, 0.02828566]])"
      ]
     },
     "execution_count": 32,
     "metadata": {},
     "output_type": "execute_result"
    }
   ],
   "source": [
    "#predicted\n",
    "pred_prob "
   ]
  },
  {
   "cell_type": "code",
   "execution_count": 33,
   "metadata": {},
   "outputs": [
    {
     "name": "stdout",
     "output_type": "stream",
     "text": [
      "50\n"
     ]
    }
   ],
   "source": [
    "#print(type(pred_prob))\n",
    "#print(len (pred_prob))\n",
    "#print (pred_prob[0])\n",
    "#print(np.amax(pred_prob[0]))\n",
    "prob_list =[]\n",
    "for i in range(len(pred_prob)):\n",
    "    prob_list.append(np.amax(pred_prob[i]))\n",
    "print (len(prob_list))"
   ]
  },
  {
   "cell_type": "code",
   "execution_count": 34,
   "metadata": {
    "scrolled": false
   },
   "outputs": [
    {
     "name": "stdout",
     "output_type": "stream",
     "text": [
      "<class 'pandas.core.frame.DataFrame'>\n"
     ]
    }
   ],
   "source": [
    "d = {'Headlines':test_data, 'Category':test_cat_list, 'Probability':prob_list}\n",
    "#print(d)\n",
    "dfd = pd.DataFrame(d)\n",
    "print(type(dfd))"
   ]
  },
  {
   "cell_type": "code",
   "execution_count": 35,
   "metadata": {},
   "outputs": [
    {
     "name": "stdout",
     "output_type": "stream",
     "text": [
      "<class 'pandas.core.frame.DataFrame'>\n"
     ]
    }
   ],
   "source": [
    "#fp = open('analysis.txt', 'w')\n",
    "#fp.write(dfd)\n",
    "#fp.close()\n",
    "#np.savetxt(r'./analysis.txt', dfd.values, fmt='%s')\n",
    "ds = dfd.applymap(str)\n",
    "print(type(ds))\n",
    "ds.to_csv('analysis.csv')\n",
    "np.savetxt(r'./analysis.txt', ds.values, fmt='%s',encoding=\"utf-8\",header=\"Headlines\\tCategories\\tProbability\")"
   ]
  },
  {
   "cell_type": "code",
   "execution_count": null,
   "metadata": {},
   "outputs": [],
   "source": []
  }
 ],
 "metadata": {
  "kernelspec": {
   "display_name": "Python 3",
   "language": "python",
   "name": "python3"
  },
  "language_info": {
   "codemirror_mode": {
    "name": "ipython",
    "version": 3
   },
   "file_extension": ".py",
   "mimetype": "text/x-python",
   "name": "python",
   "nbconvert_exporter": "python",
   "pygments_lexer": "ipython3",
   "version": "3.5.2"
  }
 },
 "nbformat": 4,
 "nbformat_minor": 2
}
