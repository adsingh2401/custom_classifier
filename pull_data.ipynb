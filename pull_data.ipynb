{
 "cells": [
  {
   "cell_type": "code",
   "execution_count": 49,
   "metadata": {},
   "outputs": [],
   "source": [
    "import requests\n",
    "import json\n"
   ]
  },
  {
   "cell_type": "code",
   "execution_count": 84,
   "metadata": {},
   "outputs": [],
   "source": [
    "apiKey = \"2a8e84d984e747bb83dc02dcc52860de\"\n",
    "country = \"in\"\n",
    "category = \"business\"\n",
    "pageSize = 100"
   ]
  },
  {
   "cell_type": "code",
   "execution_count": 85,
   "metadata": {},
   "outputs": [],
   "source": [
    "response = requests.get('https://newsapi.org/v2/top-headlines?country={0}&category={1}&pageSize={2}&apiKey={3}'.format(country, category, pageSize, apiKey))\n",
    "#res_str = 'https://newsapi.org/v2/top-headlines?country={0}&category={1}&pageSize={2}&apiKey={3}'.format(country, category, pageSize, apiKey)\n",
    "#print(res_str)"
   ]
  },
  {
   "cell_type": "code",
   "execution_count": 80,
   "metadata": {},
   "outputs": [
    {
     "name": "stdout",
     "output_type": "stream",
     "text": [
      "200\n"
     ]
    }
   ],
   "source": [
    "print(response.status_code)"
   ]
  },
  {
   "cell_type": "code",
   "execution_count": 81,
   "metadata": {},
   "outputs": [],
   "source": [
    "obj = open('{}.txt'.format(category), 'a')\n",
    "resp = json.loads(response.content.decode('utf-8'))\n",
    "#print(resp)"
   ]
  },
  {
   "cell_type": "code",
   "execution_count": 82,
   "metadata": {},
   "outputs": [
    {
     "name": "stdout",
     "output_type": "stream",
     "text": [
      "<class 'str'>\n",
      "Don't ignore the brain - take care of the grey cells like the way you you take care of your heart.\n",
      "Don't ignore the brain - take care of the grey cells like the way you you take care of your heart.\n",
      "\n",
      "54\n"
     ]
    }
   ],
   "source": [
    "print(type(resp['articles'][0]['description']))\n",
    "#print(resp)\n",
    "print(resp['articles'][0]['description'])\n",
    "print(resp['articles'][0]['description'] + \"\\n\")\n",
    "print(resp['totalResults'])"
   ]
  },
  {
   "cell_type": "code",
   "execution_count": 83,
   "metadata": {},
   "outputs": [],
   "source": [
    "for index in range(resp['totalResults']):\n",
    "    data = str(resp['articles'][index]['description']) + \"\\n\"\n",
    "    data = data.encode('ascii', 'ignore').decode('ascii')\n",
    "    obj.write(data)"
   ]
  },
  {
   "cell_type": "code",
   "execution_count": null,
   "metadata": {},
   "outputs": [],
   "source": []
  },
  {
   "cell_type": "code",
   "execution_count": null,
   "metadata": {},
   "outputs": [],
   "source": []
  }
 ],
 "metadata": {
  "kernelspec": {
   "display_name": "Python 3",
   "language": "python",
   "name": "python3"
  },
  "language_info": {
   "codemirror_mode": {
    "name": "ipython",
    "version": 3
   },
   "file_extension": ".py",
   "mimetype": "text/x-python",
   "name": "python",
   "nbconvert_exporter": "python",
   "pygments_lexer": "ipython3",
   "version": "3.6.7"
  }
 },
 "nbformat": 4,
 "nbformat_minor": 2
}
